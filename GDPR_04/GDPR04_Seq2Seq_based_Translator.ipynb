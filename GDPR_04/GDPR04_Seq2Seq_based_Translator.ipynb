{
  "nbformat": 4,
  "nbformat_minor": 0,
  "metadata": {
    "colab": {
      "name": "GDPR04_Seq2Seq_based_Translator.ipynb",
      "provenance": [],
      "collapsed_sections": [],
      "toc_visible": true,
      "machine_shape": "hm"
    },
    "kernelspec": {
      "name": "python3",
      "display_name": "Python 3"
    },
    "language_info": {
      "name": "python"
    },
    "accelerator": "GPU",
    "gpuClass": "standard"
  },
  "cells": [
    {
      "cell_type": "markdown",
      "source": [
        "# **GDPR04. seq2seq 기반 번역기 만들기**"
      ],
      "metadata": {
        "id": "zk6oW2BdUbh6"
      }
    },
    {
      "cell_type": "markdown",
      "source": [
        "**INDEX**\n",
        "\n",
        "00. 사용할 모듈 가져오기\n",
        "\n",
        "01. 데이터 가져오기\n",
        "\n",
        "02. 데이터 전처리\n",
        "\n",
        "03. 데이터 토큰화\n",
        "\n",
        "04. 어텐션 기반 seq2seq 설계\n",
        "\n",
        "05. train & test\n",
        "\n",
        "06. 회고"
      ],
      "metadata": {
        "id": "NaqVTqDodF-e"
      }
    },
    {
      "cell_type": "markdown",
      "source": [
        "---"
      ],
      "metadata": {
        "id": "YKh-kLdFdPF2"
      }
    },
    {
      "cell_type": "markdown",
      "source": [
        "## **00. 사용할 모듈 가져오기**"
      ],
      "metadata": {
        "id": "NAMs_tayUpAb"
      }
    },
    {
      "cell_type": "code",
      "source": [
        "# pip install konlpy"
      ],
      "metadata": {
        "id": "2zfe-kdggUzO"
      },
      "execution_count": 1,
      "outputs": []
    },
    {
      "cell_type": "code",
      "source": [
        "# !apt-get update\n",
        "# !apt-get install g++ openjdk-8-jdk \n",
        "# !pip3 install konlpy JPype1-py3\n",
        "# !bash <(curl -s https://raw.githubusercontent.com/konlpy/konlpy/master/scripts/mecab.sh)"
      ],
      "metadata": {
        "id": "cvDdJfMGhLfD"
      },
      "execution_count": 2,
      "outputs": []
    },
    {
      "cell_type": "code",
      "source": [
        "import tensorflow as tf\n",
        "import numpy as np\n",
        "\n",
        "import matplotlib as mpl\n",
        "import matplotlib.ticker as ticker\n",
        "import matplotlib.pyplot as plt\n",
        "%config InlineBackend.figure_format = 'retina'\n",
        "import matplotlib.font_manager as fm\n",
        "\n",
        "import time\n",
        "import re\n",
        "import os\n",
        "import io\n",
        "\n",
        "import gzip\n",
        "from konlpy.tag import Mecab\n",
        "\n",
        "from tqdm import tqdm\n",
        "import random\n",
        "\n",
        "import warnings\n",
        "warnings.filterwarnings(action='ignore') \n",
        "\n",
        "\n",
        "print(tf.__version__)"
      ],
      "metadata": {
        "colab": {
          "base_uri": "https://localhost:8080/"
        },
        "id": "2Cs4OKyMU2OL",
        "outputId": "c09af969-c465-4148-8a1c-8c208c974d5b"
      },
      "execution_count": 3,
      "outputs": [
        {
          "output_type": "stream",
          "name": "stdout",
          "text": [
            "2.8.2\n"
          ]
        }
      ]
    },
    {
      "cell_type": "code",
      "source": [
        "!apt-get update -qq\n",
        "!apt-get install fonts-nanum* -qq\n",
        "\n",
        "path = '/usr/share/fonts/truetype/nanum/NanumGothic.ttf'\n",
        "font_name = fm.FontProperties(fname=path, size=10).get_name()\n",
        "plt.rc('font', family=font_name)\n",
        "fm._rebuild()"
      ],
      "metadata": {
        "id": "X-ZDyE_wX891"
      },
      "execution_count": 4,
      "outputs": []
    },
    {
      "cell_type": "markdown",
      "source": [
        "## **01. 데이터 가져오기**"
      ],
      "metadata": {
        "id": "QESN-HyZCpgV"
      }
    },
    {
      "cell_type": "markdown",
      "source": [
        "데이터는 아래의 것을 사용합니다.\n",
        "\n",
        "https://github.com/jungyeul/korean-parallel-corpora/tree/master/korean-english-news-v1"
      ],
      "metadata": {
        "id": "AvOH76Dcip7S"
      }
    },
    {
      "cell_type": "code",
      "source": [
        "url = 'https://raw.githubusercontent.com/jungyeul/korean-parallel-corpora/master/korean-english-news-v1/korean-english-park.train.tar.gz'"
      ],
      "metadata": {
        "id": "vRTjaNH0cfn8"
      },
      "execution_count": 5,
      "outputs": []
    },
    {
      "cell_type": "code",
      "source": [
        "def data_loader(url):\n",
        "    # data download\n",
        "    path_to_zip = tf.keras.utils.get_file('train_data', origin=url, extract=True)\n",
        "\n",
        "    path_to_file_ko = os.path.dirname(path_to_zip)+\"/korean-english-park.train.ko\"\n",
        "    path_to_file_en = os.path.dirname(path_to_zip)+\"/korean-english-park.train.en\"\n",
        "\n",
        "    # ko data open\n",
        "    with open(path_to_file_ko, 'r') as f:\n",
        "        ko = f.read().splitlines()\n",
        "    print(\"KO Data Size:\", len(ko))\n",
        "    print(\"Example:\")\n",
        "    for sen in ko[0:100][::20]: print(\">>\", sen)\n",
        "\n",
        "    print(\"\")\n",
        "\n",
        "    # en data open\n",
        "    with open(path_to_file_en, 'r') as f2:\n",
        "        en = f2.read().splitlines()\n",
        "    print(\"EN Data Size:\", len(en))\n",
        "    print(\"Example:\")\n",
        "    for sen in en[0:100][::20]: print(\">>\", sen)\n",
        "\n",
        "    return ko, en\n",
        "\n",
        "print(\"Done!\")"
      ],
      "metadata": {
        "colab": {
          "base_uri": "https://localhost:8080/"
        },
        "id": "r9ig6XygvV4l",
        "outputId": "2ca7c10d-163f-4dff-948b-317746c94b5b"
      },
      "execution_count": 6,
      "outputs": [
        {
          "output_type": "stream",
          "name": "stdout",
          "text": [
            "Done!\n"
          ]
        }
      ]
    },
    {
      "cell_type": "code",
      "source": [
        "ko_raw, en_raw = data_loader(url)"
      ],
      "metadata": {
        "id": "Y4i8WA0oSdEQ",
        "colab": {
          "base_uri": "https://localhost:8080/"
        },
        "outputId": "f9dc1ea3-cafd-4403-b7a0-627095f50952"
      },
      "execution_count": 7,
      "outputs": [
        {
          "output_type": "stream",
          "name": "stdout",
          "text": [
            "Downloading data from https://raw.githubusercontent.com/jungyeul/korean-parallel-corpora/master/korean-english-news-v1/korean-english-park.train.tar.gz\n",
            "8724480/8718893 [==============================] - 0s 0us/step\n",
            "8732672/8718893 [==============================] - 0s 0us/step\n",
            "KO Data Size: 94123\n",
            "Example:\n",
            ">> 개인용 컴퓨터 사용의 상당 부분은 \"이것보다 뛰어날 수 있느냐?\"\n",
            ">> 북한의 핵무기 계획을 포기하도록 하려는 압력이 거세지고 있는 가운데, 일본과 북한의 외교관들이 외교 관계를 정상화하려는 회담을 재개했다.\n",
            ">> \"경호 로보트가 침입자나 화재를 탐지하기 위해서 개인적으로, 그리고 전문적으로 사용되고 있습니다.\"\n",
            ">> 수자원부 당국은 논란이 되고 있고, 막대한 비용이 드는 이 사업에 대해 내년에 건설을 시작할 계획이다.\n",
            ">> 또한 근력 운동은 활발하게 걷는 것이나 최소한 20분 동안 뛰는 것과 같은 유산소 활동에서 얻는 운동 효과를 심장과 폐에 주지 않기 때문에, 연구학자들은 근력 운동이 심장에 큰 영향을 미치는지 여부에 대해 논쟁을 해왔다.\n",
            "\n",
            "EN Data Size: 94123\n",
            "Example:\n",
            ">> Much of personal computing is about \"can you top this?\"\n",
            ">> Amid mounting pressure on North Korea to abandon its nuclear weapons program Japanese and North Korean diplomats have resumed talks on normalizing diplomatic relations.\n",
            ">> “Guard robots are used privately and professionally to detect intruders or fire,” Karlsson said.\n",
            ">> Authorities from the Water Resources Ministry plan to begin construction next year on the controversial and hugely expensive project.\n",
            ">> Researchers also have debated whether weight-training has a big impact on the heart, since it does not give the heart and lungs the kind of workout they get from aerobic activities such as brisk walking or running for at least 20 minutes.\n"
          ]
        }
      ]
    },
    {
      "cell_type": "markdown",
      "source": [
        "둘다 개수가 94123으로 잘 맞습니다."
      ],
      "metadata": {
        "id": "xQ9dhbGQj0z_"
      }
    },
    {
      "cell_type": "markdown",
      "source": [
        "## **02. 데이터 전처리**"
      ],
      "metadata": {
        "id": "XwL4YKPVUnHq"
      }
    },
    {
      "cell_type": "markdown",
      "source": [
        "### **2-1. 중복 제거**"
      ],
      "metadata": {
        "id": "hc6I6jrTqfxj"
      }
    },
    {
      "cell_type": "code",
      "source": [
        "# 중복 제거\n",
        "zip_raw = zip(ko_raw, en_raw)\n",
        "zip_raw"
      ],
      "metadata": {
        "colab": {
          "base_uri": "https://localhost:8080/"
        },
        "id": "xNvvzyKlfEA_",
        "outputId": "c9f0b99b-a075-43c9-e582-0228d51eec9a"
      },
      "execution_count": 8,
      "outputs": [
        {
          "output_type": "execute_result",
          "data": {
            "text/plain": [
              "<zip at 0x7fb5be804280>"
            ]
          },
          "metadata": {},
          "execution_count": 8
        }
      ]
    },
    {
      "cell_type": "code",
      "source": [
        "set_raw = set(zip_raw)\n",
        "len(set_raw)"
      ],
      "metadata": {
        "colab": {
          "base_uri": "https://localhost:8080/"
        },
        "id": "jR-ezJqknus_",
        "outputId": "63e137df-9c48-4ba8-aa61-e24e04b10a4f"
      },
      "execution_count": 9,
      "outputs": [
        {
          "output_type": "execute_result",
          "data": {
            "text/plain": [
              "78968"
            ]
          },
          "metadata": {},
          "execution_count": 9
        }
      ]
    },
    {
      "cell_type": "code",
      "source": [
        "cleaned_corpus_ko, cleaned_corpus_en = list(zip(*set_raw))"
      ],
      "metadata": {
        "id": "whxjegAopj1d"
      },
      "execution_count": 10,
      "outputs": []
    },
    {
      "cell_type": "code",
      "source": [
        "cleaned_corpus_ko[0]"
      ],
      "metadata": {
        "colab": {
          "base_uri": "https://localhost:8080/",
          "height": 36
        },
        "id": "jxOVuQpQqa3u",
        "outputId": "56654179-2dd9-49e0-9d3a-00beae1898a0"
      },
      "execution_count": 11,
      "outputs": [
        {
          "output_type": "execute_result",
          "data": {
            "text/plain": [
              "'공교롭게도 용의자 8명 모두 의학계에 종사하고 있다.'"
            ],
            "application/vnd.google.colaboratory.intrinsic+json": {
              "type": "string"
            }
          },
          "metadata": {},
          "execution_count": 11
        }
      ]
    },
    {
      "cell_type": "code",
      "source": [
        "cleaned_corpus_en[0]"
      ],
      "metadata": {
        "colab": {
          "base_uri": "https://localhost:8080/",
          "height": 53
        },
        "id": "W-00yza3qcGr",
        "outputId": "03d0cb47-0621-41aa-dcd2-0c30947ee8a1"
      },
      "execution_count": 12,
      "outputs": [
        {
          "output_type": "execute_result",
          "data": {
            "text/plain": [
              "'All eight have links to the medical profession, according to sources with knowledge of the investigation.'"
            ],
            "application/vnd.google.colaboratory.intrinsic+json": {
              "type": "string"
            }
          },
          "metadata": {},
          "execution_count": 12
        }
      ]
    },
    {
      "cell_type": "markdown",
      "source": [
        "잘 처리되었습니다."
      ],
      "metadata": {
        "id": "ZHJUvYJZqc7a"
      }
    },
    {
      "cell_type": "markdown",
      "source": [
        "### **2-2. 정규식 표현**"
      ],
      "metadata": {
        "id": "lWdYfsdHqfYr"
      }
    },
    {
      "cell_type": "code",
      "source": [
        "# 정규식 표현 함수\n",
        "def preprocessing(sentence, ko_token=False, en_token=False):\n",
        "    sentence = sentence.lower().strip()\n",
        "\n",
        "    sentence = re.sub(r\"([?.!,])\", r\" \\1 \", sentence)\n",
        "    sentence = re.sub(r'[\" \"]+', \" \", sentence)\n",
        "\n",
        "    if ko_token:\n",
        "        mecab = Mecab()\n",
        "        sentence = re.sub(r\"[^?.!,^가-힣ㄱ-ㅎㅏ-ㅣ]+\", \" \", sentence)\n",
        "        sentence = mecab.morphs(sentence)\n",
        "\n",
        "    if en_token:\n",
        "        sentence = re.sub(r\"[^a-zA-Z?.!,]+\", \" \", sentence)\n",
        "        sentence = '<start> ' + sentence\n",
        "        sentence += ' <end>'\n",
        "    \n",
        "    return sentence\n",
        "\n",
        "print(\"Done!\")    "
      ],
      "metadata": {
        "colab": {
          "base_uri": "https://localhost:8080/"
        },
        "id": "R0ThFFuAqkLD",
        "outputId": "18e2c652-c58b-4da1-9eba-548f5b1828cf"
      },
      "execution_count": 13,
      "outputs": [
        {
          "output_type": "stream",
          "name": "stdout",
          "text": [
            "Done!\n"
          ]
        }
      ]
    },
    {
      "cell_type": "code",
      "source": [
        "# 토큰 추가, 40이하 잘라내기\n",
        "kor_corpus = []\n",
        "eng_corpus = []\n",
        "\n",
        "for ko, en in zip(cleaned_corpus_ko, cleaned_corpus_en):\n",
        "    temp_ko = preprocessing(ko, ko_token=True)\n",
        "    temp_en = preprocessing(en, en_token=True)\n",
        "\n",
        "    if (len(temp_ko) <= 40):\n",
        "        kor_corpus.append(temp_ko)\n",
        "        eng_corpus.append(temp_en)\n",
        "\n",
        "print(kor_corpus[0])\n",
        "print(eng_corpus[0])"
      ],
      "metadata": {
        "colab": {
          "base_uri": "https://localhost:8080/"
        },
        "id": "RHqFZazBrNez",
        "outputId": "96733e5c-389c-4720-f249-e40a08412e08"
      },
      "execution_count": 14,
      "outputs": [
        {
          "output_type": "stream",
          "name": "stdout",
          "text": [
            "['공교', '롭', '게', '도', '용의자', '명', '모두', '의학', '계', '에', '종사', '하', '고', '있', '다', '.']\n",
            "<start> all eight have links to the medical profession , according to sources with knowledge of the investigation .  <end>\n"
          ]
        }
      ]
    },
    {
      "cell_type": "code",
      "source": [
        "len(kor_corpus),len(eng_corpus)"
      ],
      "metadata": {
        "colab": {
          "base_uri": "https://localhost:8080/"
        },
        "id": "kaudtJbhsoOv",
        "outputId": "b99b32c4-b91c-4b55-c2d1-d1ff5d19a819"
      },
      "execution_count": 15,
      "outputs": [
        {
          "output_type": "execute_result",
          "data": {
            "text/plain": [
              "(67016, 67016)"
            ]
          },
          "metadata": {},
          "execution_count": 15
        }
      ]
    },
    {
      "cell_type": "markdown",
      "source": [
        "길이도 동일합니다. 이제 데이터를 토큰화합니다."
      ],
      "metadata": {
        "id": "INtOP4z6s5dH"
      }
    },
    {
      "cell_type": "markdown",
      "source": [
        "## **03. 데이터 토큰화**"
      ],
      "metadata": {
        "id": "FPoAczXes80v"
      }
    },
    {
      "cell_type": "code",
      "source": [
        "vocab_size = 20000\n",
        "\n",
        "def tokenize(corpus):\n",
        "    tokenizer = tf.keras.preprocessing.text.Tokenizer(filters='')\n",
        "    tokenizer.fit_on_texts(corpus)\n",
        "\n",
        "    tensor = tokenizer.texts_to_sequences(corpus)\n",
        "\n",
        "    tensor = tf.keras.preprocessing.sequence.pad_sequences(tensor, padding='post')\n",
        "\n",
        "    return tensor, tokenizer\n",
        "\n",
        "print(\"Done!\")"
      ],
      "metadata": {
        "colab": {
          "base_uri": "https://localhost:8080/"
        },
        "id": "-P-Wjr_BtAOW",
        "outputId": "b4105c18-afb2-48dd-efb6-1ee1e827cd11"
      },
      "execution_count": 16,
      "outputs": [
        {
          "output_type": "stream",
          "name": "stdout",
          "text": [
            "Done!\n"
          ]
        }
      ]
    },
    {
      "cell_type": "code",
      "source": [
        "enc_tensor, enc_tokenizer = tokenize(kor_corpus)\n",
        "dec_tensor, dec_tokenizer = tokenize(eng_corpus)\n",
        "\n",
        "print(\"Done!\")"
      ],
      "metadata": {
        "colab": {
          "base_uri": "https://localhost:8080/"
        },
        "id": "9rxmsHOHtIgX",
        "outputId": "7eda6e77-2e11-45b9-f29a-5d460de53e77"
      },
      "execution_count": 17,
      "outputs": [
        {
          "output_type": "stream",
          "name": "stdout",
          "text": [
            "Done!\n"
          ]
        }
      ]
    },
    {
      "cell_type": "code",
      "source": [
        "print(\"ENC voca size: {}\".format(len(enc_tokenizer.index_word)))\n",
        "print(\"DEC voca size: {}\".format(len(dec_tokenizer.index_word)))"
      ],
      "metadata": {
        "colab": {
          "base_uri": "https://localhost:8080/"
        },
        "id": "Tw_-lrG_td-W",
        "outputId": "8fcca208-f33f-468f-f419-b11ca4317055"
      },
      "execution_count": 18,
      "outputs": [
        {
          "output_type": "stream",
          "name": "stdout",
          "text": [
            "ENC voca size: 38205\n",
            "DEC voca size: 40219\n"
          ]
        }
      ]
    },
    {
      "cell_type": "markdown",
      "source": [
        "잘 처리된 것 같습니다. 이제 모델을 설계합니다."
      ],
      "metadata": {
        "id": "HTdR1wIXtxZG"
      }
    },
    {
      "cell_type": "markdown",
      "source": [
        "## **04. Attention 기반 seq2seq 모델 설계**"
      ],
      "metadata": {
        "id": "FSU_UVjUuEFF"
      }
    },
    {
      "cell_type": "markdown",
      "source": [
        "### **4-1. 어텐션 설계 (바다나우)**"
      ],
      "metadata": {
        "id": "dyWo6rd3uHYU"
      }
    },
    {
      "cell_type": "code",
      "source": [
        "class BahdanauAttention(tf.keras.layers.Layer):\n",
        "    def __init__(self, units):\n",
        "        super(BahdanauAttention, self).__init__()\n",
        "        self.w_dec = tf.keras.layers.Dense(units)\n",
        "        self.w_enc = tf.keras.layers.Dense(units)\n",
        "        self.w_com = tf.keras.layers.Dense(1)\n",
        "    \n",
        "    def call(self, h_enc, h_dec):\n",
        "        # h_enc shape: [batch x length x units]\n",
        "        # h_dec shape: [batch x units]\n",
        "\n",
        "        h_enc = self.w_enc(h_enc)\n",
        "        h_dec = tf.expand_dims(h_dec, 1)\n",
        "        h_dec = self.w_dec(h_dec)\n",
        "\n",
        "        score = self.w_com(tf.nn.tanh(h_dec + h_enc))\n",
        "        \n",
        "        attn = tf.nn.softmax(score, axis=1)\n",
        "\n",
        "        context_vec = attn * h_enc\n",
        "        context_vec = tf.reduce_sum(context_vec, axis=1)\n",
        "\n",
        "        return context_vec, attn\n",
        "\n",
        "print(\"Done!\")"
      ],
      "metadata": {
        "colab": {
          "base_uri": "https://localhost:8080/"
        },
        "id": "buyZ94JnuRZM",
        "outputId": "876a94e1-e33a-4337-e1fe-e70e9ec8ce28"
      },
      "execution_count": 19,
      "outputs": [
        {
          "output_type": "stream",
          "name": "stdout",
          "text": [
            "Done!\n"
          ]
        }
      ]
    },
    {
      "cell_type": "markdown",
      "source": [
        "### **4-2. Encoder & Decoder 설계**"
      ],
      "metadata": {
        "id": "IPoe4fu3uTFd"
      }
    },
    {
      "cell_type": "code",
      "source": [
        "# 인코더\n",
        "class Encoder(tf.keras.Model):\n",
        "    def __init__(self, vocab_size, embedding_dim, enc_units):\n",
        "        super(Encoder, self).__init__()\n",
        "        \n",
        "        self.enc_units = enc_units\n",
        "        self.embedding = tf.keras.layers.Embedding(vocab_size, embedding_dim)\n",
        "        self.gru = tf.keras.layers.GRU(enc_units,\n",
        "                                       return_sequences=True)\n",
        "        \n",
        "    def call(self, x):\n",
        "        out = self.embedding(x)\n",
        "        out = self.gru(out)\n",
        "        \n",
        "        return out\n",
        "\n",
        "# 디코더\n",
        "class Decoder(tf.keras.Model):\n",
        "    def __init__(self, vocab_size, embedding_dim, dec_units):\n",
        "        super(Decoder, self).__init__()\n",
        "        self.dec_units = dec_units\n",
        "        self.embedding = tf.keras.layers.Embedding(vocab_size, embedding_dim)\n",
        "        self.gru = tf.keras.layers.GRU(dec_units,\n",
        "                                       return_sequences=True,\n",
        "                                       return_state=True)\n",
        "        self.fc = tf.keras.layers.Dense(vocab_size)\n",
        "\n",
        "        self.attention = BahdanauAttention(self.dec_units)\n",
        "\n",
        "    def call(self, x, h_dec, enc_out):\n",
        "        context_vec, attn = self.attention(enc_out, h_dec)\n",
        "\n",
        "        out = self.embedding(x)\n",
        "        out = tf.concat([tf.expand_dims(context_vec, 1), out], axis=-1)\n",
        "        \n",
        "        out, h_dec = self.gru(out)\n",
        "        out = tf.reshape(out, (-1, out.shape[2]))\n",
        "        out = self.fc(out)\n",
        "\n",
        "        return out, h_dec, attn\n",
        "\n",
        "print(\"Done!\")"
      ],
      "metadata": {
        "colab": {
          "base_uri": "https://localhost:8080/"
        },
        "id": "PE4uHxbvuZjc",
        "outputId": "87758249-8691-4dbc-f412-a288e0d27b0a"
      },
      "execution_count": 20,
      "outputs": [
        {
          "output_type": "stream",
          "name": "stdout",
          "text": [
            "Done!\n"
          ]
        }
      ]
    },
    {
      "cell_type": "markdown",
      "source": [
        "### **4-3. 모델 구조 확인**"
      ],
      "metadata": {
        "id": "TsSIa7Y-ueur"
      }
    },
    {
      "cell_type": "code",
      "source": [
        "# 디폴트 64\n",
        "BATCH_SIZE     = 64\n",
        "SRC_VOCAB_SIZE = len(enc_tokenizer.index_word) + 1\n",
        "TGT_VOCAB_SIZE = len(dec_tokenizer.index_word) + 1\n",
        "\n",
        "# 디폴트 1024\n",
        "units         = 512\n",
        "embedding_dim = 512\n",
        "\n",
        "encoder = Encoder(SRC_VOCAB_SIZE, embedding_dim, units)\n",
        "decoder = Decoder(TGT_VOCAB_SIZE, embedding_dim, units)\n",
        "\n",
        "# sample input\n",
        "sequence_len = 30\n",
        "\n",
        "sample_enc = tf.random.uniform((BATCH_SIZE, sequence_len))\n",
        "sample_output = encoder(sample_enc)\n",
        "\n",
        "print ('Encoder Output:', sample_output.shape)\n",
        "\n",
        "sample_state = tf.random.uniform((BATCH_SIZE, units))\n",
        "\n",
        "sample_logits, h_dec, attn = decoder(tf.random.uniform((BATCH_SIZE, 1)),\n",
        "                                     sample_state, sample_output)\n",
        "\n",
        "print ('Decoder Output:', sample_logits.shape)\n",
        "print ('Decoder Hidden State:', h_dec.shape)\n",
        "print ('Attention:', attn.shape)"
      ],
      "metadata": {
        "colab": {
          "base_uri": "https://localhost:8080/"
        },
        "id": "9OqIDQPtui4b",
        "outputId": "7cca7174-9276-4787-cc22-7d42ca1924b9"
      },
      "execution_count": 25,
      "outputs": [
        {
          "output_type": "stream",
          "name": "stdout",
          "text": [
            "Encoder Output: (64, 30, 512)\n",
            "Decoder Output: (64, 40220)\n",
            "Decoder Hidden State: (64, 512)\n",
            "Attention: (64, 30, 1)\n"
          ]
        }
      ]
    },
    {
      "cell_type": "markdown",
      "source": [
        "### **4-4. optimizer & loss**"
      ],
      "metadata": {
        "id": "6lAMJG8LujLT"
      }
    },
    {
      "cell_type": "code",
      "source": [
        "# Adam 사용\n",
        "optimizer = tf.keras.optimizers.Adam()\n",
        "\n",
        "# 다중카테고리 loss\n",
        "loss_object = tf.keras.losses.SparseCategoricalCrossentropy(\n",
        "    from_logits=True, reduction='none')\n",
        "\n",
        "def loss_function(real, pred):\n",
        "    mask = tf.math.logical_not(tf.math.equal(real, 0))\n",
        "    loss = loss_object(real, pred)\n",
        "    \n",
        "    mask = tf.cast(mask, dtype=loss.dtype)\n",
        "    loss *= mask\n",
        "    \n",
        "    return tf.reduce_mean(loss)\n",
        "\n",
        "print(\"Done!\")"
      ],
      "metadata": {
        "colab": {
          "base_uri": "https://localhost:8080/"
        },
        "id": "-wa0MMmdx0i2",
        "outputId": "22d61bc7-db39-47ea-f003-d032cb64d375"
      },
      "execution_count": 26,
      "outputs": [
        {
          "output_type": "stream",
          "name": "stdout",
          "text": [
            "Done!\n"
          ]
        }
      ]
    },
    {
      "cell_type": "markdown",
      "source": [
        "### **4-5. train_step**"
      ],
      "metadata": {
        "id": "9ikYFYrgyACu"
      }
    },
    {
      "cell_type": "code",
      "source": [
        "@tf.function\n",
        "def train_step(src, tgt, encoder, decoder, optimizer, dec_tok):\n",
        "    bsz = src.shape[0]\n",
        "    loss = 0\n",
        "\n",
        "    with tf.GradientTape() as tape:\n",
        "        enc_out = encoder(src)\n",
        "        h_dec = enc_out[:, -1]\n",
        "        \n",
        "        dec_src = tf.expand_dims([dec_tok.word_index['<start>']] * bsz, 1)\n",
        "\n",
        "        for t in range(1, tgt.shape[1]):\n",
        "            pred, h_dec, _ = decoder(dec_src, h_dec, enc_out)\n",
        "\n",
        "            loss += loss_function(tgt[:, t], pred)\n",
        "            dec_src = tf.expand_dims(tgt[:, t], 1)\n",
        "        \n",
        "    batch_loss = (loss / int(tgt.shape[1]))\n",
        "\n",
        "    variables = encoder.trainable_variables + decoder.trainable_variables\n",
        "    gradients = tape.gradient(loss, variables)\n",
        "    optimizer.apply_gradients(zip(gradients, variables))\n",
        "    \n",
        "    return batch_loss\n",
        "\n",
        "print(\"Done!\")"
      ],
      "metadata": {
        "colab": {
          "base_uri": "https://localhost:8080/"
        },
        "id": "26x9EWKeyFQd",
        "outputId": "d0704ed2-abd5-44f0-e8f6-243aa298310b"
      },
      "execution_count": 27,
      "outputs": [
        {
          "output_type": "stream",
          "name": "stdout",
          "text": [
            "Done!\n"
          ]
        }
      ]
    },
    {
      "cell_type": "markdown",
      "source": [
        "## **05. train & test**"
      ],
      "metadata": {
        "id": "aynuXt_pyNsW"
      }
    },
    {
      "cell_type": "markdown",
      "source": [
        "### **5-1. train**"
      ],
      "metadata": {
        "id": "VyyqhnnizNdN"
      }
    },
    {
      "cell_type": "code",
      "source": [
        "EPOCHS = 10\n",
        "\n",
        "for epoch in range(EPOCHS):\n",
        "    total_loss = 0\n",
        "    \n",
        "    idx_list = list(range(0, enc_tensor.shape[0], BATCH_SIZE))\n",
        "    random.shuffle(idx_list)\n",
        "    t = tqdm(idx_list)    # tqdm\n",
        "\n",
        "    for (batch, idx) in enumerate(t):\n",
        "        batch_loss = train_step(enc_tensor[idx:idx+BATCH_SIZE],\n",
        "                                dec_tensor[idx:idx+BATCH_SIZE],\n",
        "                                encoder,\n",
        "                                decoder,\n",
        "                                optimizer,\n",
        "                                dec_tokenizer)\n",
        "    \n",
        "        total_loss += batch_loss\n",
        "        \n",
        "        t.set_description_str('Epoch %2d' % (epoch + 1))    # tqdm\n",
        "        t.set_postfix_str('Loss %.4f' % (total_loss.numpy() / (batch + 1)))    # tqdm"
      ],
      "metadata": {
        "colab": {
          "base_uri": "https://localhost:8080/"
        },
        "id": "PzpmqN20yGXG",
        "outputId": "1c78c5cf-f6aa-4aaa-e896-4d9cab2d0e66"
      },
      "execution_count": 28,
      "outputs": [
        {
          "output_type": "stream",
          "name": "stderr",
          "text": [
            "Epoch  1: 100%|██████████| 1048/1048 [11:00<00:00,  1.59it/s, Loss 1.9967]\n",
            "Epoch  2: 100%|██████████| 1048/1048 [08:25<00:00,  2.07it/s, Loss 1.9429]\n",
            "Epoch  3: 100%|██████████| 1048/1048 [08:26<00:00,  2.07it/s, Loss 1.6703]\n",
            "Epoch  4: 100%|██████████| 1048/1048 [08:27<00:00,  2.07it/s, Loss 1.5479]\n",
            "Epoch  5: 100%|██████████| 1048/1048 [08:27<00:00,  2.07it/s, Loss 1.4770]\n",
            "Epoch  6: 100%|██████████| 1048/1048 [08:27<00:00,  2.07it/s, Loss 1.4170]\n",
            "Epoch  7: 100%|██████████| 1048/1048 [08:27<00:00,  2.07it/s, Loss 1.3591]\n",
            "Epoch  8: 100%|██████████| 1048/1048 [08:26<00:00,  2.07it/s, Loss 1.3016]\n",
            "Epoch  9: 100%|██████████| 1048/1048 [08:27<00:00,  2.07it/s, Loss 1.2482]\n",
            "Epoch 10: 100%|██████████| 1048/1048 [08:27<00:00,  2.07it/s, Loss 1.1969]\n"
          ]
        }
      ]
    },
    {
      "cell_type": "markdown",
      "source": [
        "### **5-2. test**\n",
        "\n",
        "기본 모델로 학습한 결과를 테스트 해보겠습니다."
      ],
      "metadata": {
        "id": "REpFR0ENy1O9"
      }
    },
    {
      "cell_type": "code",
      "source": [
        "def evaluate(sentence, encoder, decoder):\n",
        "    attention = np.zeros((dec_tensor.shape[-1], enc_tensor.shape[-1]))\n",
        "    \n",
        "    sentence = preprocessing(sentence)\n",
        "    inputs = enc_tokenizer.texts_to_sequences([sentence.split()])\n",
        "    inputs = tf.keras.preprocessing.sequence.pad_sequences(inputs,\n",
        "                                                           maxlen=enc_tensor.shape[-1],\n",
        "                                                           padding='post')\n",
        "\n",
        "    result = ''\n",
        "\n",
        "    enc_out = encoder(inputs)\n",
        "\n",
        "    dec_hidden = enc_out[:, -1]\n",
        "    dec_input = tf.expand_dims([dec_tokenizer.word_index['<start>']], 0)\n",
        "\n",
        "    for t in range(dec_tensor.shape[-1]):\n",
        "        predictions, dec_hidden, attention_weights = decoder(dec_input,\n",
        "                                                             dec_hidden,\n",
        "                                                             enc_out)\n",
        "\n",
        "        attention_weights = tf.reshape(attention_weights, (-1, ))\n",
        "        attention[t] = attention_weights.numpy()\n",
        "\n",
        "        predicted_id = \\\n",
        "        tf.argmax(tf.math.softmax(predictions, axis=-1)[0]).numpy()\n",
        "\n",
        "        result += dec_tokenizer.index_word[predicted_id] + ' '\n",
        "\n",
        "        if dec_tokenizer.index_word[predicted_id] == '<end>':\n",
        "            return result, sentence, attention\n",
        "\n",
        "        dec_input = tf.expand_dims([predicted_id], 0)\n",
        "\n",
        "    return result, sentence, attention\n",
        "\n",
        "\n",
        "def plot_attention(attention, sentence, predicted_sentence):\n",
        "    fig = plt.figure(figsize=(10,10))\n",
        "    ax = fig.add_subplot(1, 1, 1)\n",
        "    ax.matshow(attention, cmap='viridis')\n",
        "\n",
        "    fontdict = {'fontsize': 14}\n",
        "\n",
        "    ax.set_xticklabels([''] + sentence, fontdict=fontdict, rotation=90)\n",
        "    ax.set_yticklabels([''] + predicted_sentence, fontdict=fontdict)\n",
        "\n",
        "    ax.xaxis.set_major_locator(ticker.MultipleLocator(1))\n",
        "    ax.yaxis.set_major_locator(ticker.MultipleLocator(1))\n",
        "\n",
        "    plt.show()\n",
        "\n",
        "\n",
        "def translate(sentence, encoder, decoder):\n",
        "    result, sentence, attention = evaluate(sentence, encoder, decoder)\n",
        "\n",
        "    print('Input: %s' % (sentence))\n",
        "    print('Predicted translation: {}'.format(result))\n",
        "    \n",
        "    attention = attention[:len(result.split()), :len(sentence.split())]\n",
        "    plot_attention(attention, sentence.split(), result.split(' '))\n",
        "\n",
        "print(\"Done!\")"
      ],
      "metadata": {
        "colab": {
          "base_uri": "https://localhost:8080/"
        },
        "id": "FV3XUav63-nk",
        "outputId": "d9572377-f923-4ce1-ec7b-6760f718126f"
      },
      "execution_count": 34,
      "outputs": [
        {
          "output_type": "stream",
          "name": "stdout",
          "text": [
            "Done!\n"
          ]
        }
      ]
    },
    {
      "cell_type": "code",
      "source": [
        "translate(\"오바마는 대통령이다.\", encoder, decoder)"
      ],
      "metadata": {
        "colab": {
          "base_uri": "https://localhost:8080/",
          "height": 686
        },
        "id": "4YdVGijI4Thq",
        "outputId": "a4a99c02-7189-4b59-a088-ed4879485d34"
      },
      "execution_count": 35,
      "outputs": [
        {
          "output_type": "stream",
          "name": "stdout",
          "text": [
            "Input: 오바마는 대통령이다 . \n",
            "Predicted translation: the u . <end> \n"
          ]
        },
        {
          "output_type": "display_data",
          "data": {
            "text/plain": [
              "<Figure size 720x720 with 1 Axes>"
            ],
            "image/png": "[encoded data removed]"
          },
          "metadata": {
            "image/png": {
              "width": 469,
              "height": 634
            },
            "needs_background": "light"
          }
        }
      ]
    },
    {
      "cell_type": "code",
      "source": [
        "translate(\"시민들은 도시 속에 산다.\", encoder, decoder)"
      ],
      "metadata": {
        "colab": {
          "base_uri": "https://localhost:8080/",
          "height": 673
        },
        "id": "_g7vILAJ4kDj",
        "outputId": "828bc40b-77f1-481e-e24b-ee030f84d244"
      },
      "execution_count": 36,
      "outputs": [
        {
          "output_type": "stream",
          "name": "stdout",
          "text": [
            "Input: 시민들은 도시 속에 산다 . \n",
            "Predicted translation: the city s largest city . <end> \n"
          ]
        },
        {
          "output_type": "display_data",
          "data": {
            "text/plain": [
              "<Figure size 720x720 with 1 Axes>"
            ],
            "image/png": "[encoded data removed]"
          },
          "metadata": {
            "image/png": {
              "width": 453,
              "height": 621
            },
            "needs_background": "light"
          }
        }
      ]
    },
    {
      "cell_type": "code",
      "source": [
        "translate(\"커피는 필요 없다.\", encoder, decoder)"
      ],
      "metadata": {
        "colab": {
          "base_uri": "https://localhost:8080/",
          "height": 660
        },
        "id": "uAOEU26yDM0q",
        "outputId": "b6be7616-0bf8-4f90-db18-92ea59c947b8"
      },
      "execution_count": 37,
      "outputs": [
        {
          "output_type": "stream",
          "name": "stdout",
          "text": [
            "Input: 커피는 필요 없다 . \n",
            "Predicted translation: we re still , says it s a lot of the first time . <end> \n"
          ]
        },
        {
          "output_type": "display_data",
          "data": {
            "text/plain": [
              "<Figure size 720x720 with 1 Axes>"
            ],
            "image/png": "[encoded data removed]"
          },
          "metadata": {
            "image/png": {
              "width": 206,
              "height": 608
            },
            "needs_background": "light"
          }
        }
      ]
    },
    {
      "cell_type": "code",
      "source": [
        "translate(\"일곱 명의 사망자가 발생했다.\", encoder, decoder)"
      ],
      "metadata": {
        "colab": {
          "base_uri": "https://localhost:8080/",
          "height": 694
        },
        "id": "CqC0gbDiDPm4",
        "outputId": "cdbef146-72cb-4384-f74e-078868d9169d"
      },
      "execution_count": 38,
      "outputs": [
        {
          "output_type": "stream",
          "name": "stdout",
          "text": [
            "Input: 일곱 명의 사망자가 발생했다 . \n",
            "Predicted translation: the year old son of the year old son of the year old son of the year old son of the year old son of the year old son of the year old son of the year old son of the year old son of the year old son of the year old son of the year old son of the year old son of the year old son of the year old son of the year old son of the year old son of \n"
          ]
        },
        {
          "output_type": "display_data",
          "data": {
            "text/plain": [
              "<Figure size 720x720 with 1 Axes>"
            ],
            "image/png": "[encoded data removed]"
          },
          "metadata": {
            "image/png": {
              "width": 83,
              "height": 622
            },
            "needs_background": "light"
          }
        }
      ]
    },
    {
      "cell_type": "markdown",
      "source": [
        "성능이 영 시원찮습니다.\n",
        "\n",
        "일부 짧은 문장은 아예 번역이 안되기도 하네요."
      ],
      "metadata": {
        "id": "daEO6syDEci-"
      }
    },
    {
      "cell_type": "markdown",
      "source": [
        "## **06. 회고**\n",
        "\n",
        "- 어텐션 구조를 잘 이해했다고 생각했는데 아닌 것 같습니다.\n",
        "\n",
        "- 성능 개선을 위해 다양한 batch size, units, embedding dimension size 조절을 해봤는데 별로 의미가 없었습니다.\n",
        "\n",
        "- 데이터의 숫자가 부족해서 그런 걸 수도 있을 것 같습니다."
      ],
      "metadata": {
        "id": "jNoOAtVTNZMe"
      }
    }
  ]
}