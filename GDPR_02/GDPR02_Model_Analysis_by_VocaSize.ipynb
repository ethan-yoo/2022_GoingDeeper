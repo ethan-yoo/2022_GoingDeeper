{
  "nbformat": 4,
  "nbformat_minor": 0,
  "metadata": {
    "colab": {
      "name": "GDPR02_Model_Analysis_by_VocaSize.ipynb",
      "provenance": [],
      "collapsed_sections": [],
      "toc_visible": true
    },
    "kernelspec": {
      "name": "python3",
      "display_name": "Python 3"
    },
    "language_info": {
      "name": "python"
    },
    "accelerator": "GPU",
    "gpuClass": "standard"
  },
  "cells": [
    {
      "cell_type": "markdown",
      "source": [
        "# **GD04. Vocabulary Size에 따른 다중분류 모델 성능 비교 (feat. 로이터)**"
      ],
      "metadata": {
        "id": "DvQmr66SrnQO"
      }
    },
    {
      "cell_type": "markdown",
      "source": [
        "**INDEX**\n",
        "\n",
        "00. 사용할 모듈 가져오기\n",
        "\n",
        "01. 데이터 가져오기\n",
        "\n",
        "02. EDA 및 전처리\n",
        "\n",
        "03. 벡터화하기\n",
        "\n",
        "04. 모델 테스트\n",
        "\n",
        "05. 딥러닝 모델과 비교\n",
        "\n",
        "06. 회고"
      ],
      "metadata": {
        "id": "0BEHd68N3j9K"
      }
    },
    {
      "cell_type": "markdown",
      "source": [
        "# **00. 사용할 모듈 가져오기**"
      ],
      "metadata": {
        "id": "1Jsqkqk4vnzT"
      }
    },
    {
      "cell_type": "code",
      "source": [
        "import numpy as np\n",
        "import pandas as pd\n",
        "import tensorflow as tf\n",
        "import matplotlib.pyplot as plt\n",
        "import seaborn as sns\n",
        "import sklearn\n",
        "\n",
        "from tensorflow.keras.datasets import reuters\n",
        "from tensorflow import keras\n",
        "\n",
        "from sklearn.feature_extraction.text import CountVectorizer\n",
        "from sklearn.feature_extraction.text import TfidfTransformer\n",
        "from sklearn.naive_bayes import MultinomialNB #다항분포 나이브 베이즈\n",
        "from sklearn.linear_model import LogisticRegression, SGDClassifier\n",
        "from sklearn.naive_bayes import ComplementNB\n",
        "from sklearn.tree import DecisionTreeClassifier\n",
        "from sklearn.ensemble import RandomForestClassifier\n",
        "from sklearn.ensemble import GradientBoostingClassifier\n",
        "from sklearn.ensemble import VotingClassifier\n",
        "from sklearn.svm import LinearSVC\n",
        "from sklearn.metrics import accuracy_score\n",
        "from sklearn.metrics import classification_report\n",
        "from sklearn.metrics import confusion_matrix\n",
        "\n",
        "print(np.__version__)\n",
        "print(pd.__version__)\n",
        "print(tf.__version__)\n",
        "print(sns.__version__)\n",
        "print(sklearn.__version__)"
      ],
      "metadata": {
        "colab": {
          "base_uri": "https://localhost:8080/"
        },
        "id": "v2GzBOSFv5CS",
        "outputId": "701c7980-5c8c-4715-c8aa-6e60031c09da"
      },
      "execution_count": 113,
      "outputs": [
        {
          "output_type": "stream",
          "name": "stdout",
          "text": [
            "1.21.6\n",
            "1.3.5\n",
            "2.8.2\n",
            "0.11.2\n",
            "1.0.2\n"
          ]
        }
      ]
    },
    {
      "cell_type": "markdown",
      "source": [
        "---"
      ],
      "metadata": {
        "id": "vA1OFVrcwMij"
      }
    },
    {
      "cell_type": "markdown",
      "source": [
        "# **01. 데이터 가져오기**\n",
        "\n",
        "- 텐서플로우에서 제공하는 로이터 뉴스 데이터셋을 사용합니다."
      ],
      "metadata": {
        "id": "Zo7R7Q7fwauZ"
      }
    },
    {
      "cell_type": "code",
      "source": [
        "words_5k = 5000\n",
        "words_10k = 10000\n",
        "words_none = None\n",
        "\n",
        "## 분할 비율은 전부 8:2\n",
        "# num_words = 5k\n",
        "(x_train5k, y_train5k), (x_test5k, y_test5k) = reuters.load_data(num_words=words_5k, test_split=0.2)\n",
        "\n",
        "# num_words = 10k\n",
        "(x_train10k, y_train10k), (x_test10k, y_test10k) = reuters.load_data(num_words=words_10k, test_split=0.2)\n",
        "\n",
        "# num_words = None\n",
        "(x_train_none, y_train_none), (x_test_none, y_test_none) = reuters.load_data(num_words=words_none, test_split=0.2)\n",
        "\n",
        "print(\"Done!\")"
      ],
      "metadata": {
        "colab": {
          "base_uri": "https://localhost:8080/"
        },
        "id": "3UjyS96uwcXw",
        "outputId": "3aee7188-9fba-4d00-d07f-e4a0e94dbfa7"
      },
      "execution_count": 2,
      "outputs": [
        {
          "output_type": "stream",
          "name": "stdout",
          "text": [
            "Downloading data from https://storage.googleapis.com/tensorflow/tf-keras-datasets/reuters.npz\n",
            "2113536/2110848 [==============================] - 0s 0us/step\n",
            "2121728/2110848 [==============================] - 0s 0us/step\n",
            "Done!\n"
          ]
        }
      ]
    },
    {
      "cell_type": "code",
      "source": [
        "# 데이터 개수는 동일, num_words만 변동\n",
        "print(\"10k 훈련 데이터:\", len(x_train10k))\n",
        "print(\"10k 테스트 데이터:\", len(x_test10k))\n",
        "\n",
        "print(\"5k 훈련 데이터:\", len(x_train5k))\n",
        "print(\"5k 테스트 데이터:\", len(x_test5k))\n",
        "\n",
        "print(\"None 훈련 데이터:\", len(x_train_none))\n",
        "print(\"None 테스트 데이터:\", len(x_test_none))\n"
      ],
      "metadata": {
        "colab": {
          "base_uri": "https://localhost:8080/"
        },
        "id": "4pUSIsciyOBV",
        "outputId": "9f946456-de15-4428-d384-0cdc40bba390"
      },
      "execution_count": 3,
      "outputs": [
        {
          "output_type": "stream",
          "name": "stdout",
          "text": [
            "10k 훈련 데이터: 8982\n",
            "10k 테스트 데이터: 2246\n",
            "5k 훈련 데이터: 8982\n",
            "5k 테스트 데이터: 2246\n",
            "None 훈련 데이터: 8982\n",
            "None 테스트 데이터: 2246\n"
          ]
        }
      ]
    },
    {
      "cell_type": "markdown",
      "source": [
        "---"
      ],
      "metadata": {
        "id": "Wkt-K0yl0D8g"
      }
    },
    {
      "cell_type": "markdown",
      "source": [
        "# **02. EDA 및 전처리**"
      ],
      "metadata": {
        "id": "8z-T-3Oy0S7S"
      }
    },
    {
      "cell_type": "code",
      "source": [
        "type(x_train10k)"
      ],
      "metadata": {
        "colab": {
          "base_uri": "https://localhost:8080/"
        },
        "id": "Xrf4DZSJyji9",
        "outputId": "bdfaa0ae-a722-44d3-e7ed-427d93e24489"
      },
      "execution_count": 4,
      "outputs": [
        {
          "output_type": "execute_result",
          "data": {
            "text/plain": [
              "numpy.ndarray"
            ]
          },
          "metadata": {},
          "execution_count": 4
        }
      ]
    },
    {
      "cell_type": "code",
      "source": [
        "print(x_train10k[0])"
      ],
      "metadata": {
        "colab": {
          "base_uri": "https://localhost:8080/"
        },
        "id": "Oh3QvcSQyo5z",
        "outputId": "1f016e15-dada-4c67-8b7e-e6c2b370f3e0"
      },
      "execution_count": 5,
      "outputs": [
        {
          "output_type": "stream",
          "name": "stdout",
          "text": [
            "[1, 2, 2, 8, 43, 10, 447, 5, 25, 207, 270, 5, 3095, 111, 16, 369, 186, 90, 67, 7, 89, 5, 19, 102, 6, 19, 124, 15, 90, 67, 84, 22, 482, 26, 7, 48, 4, 49, 8, 864, 39, 209, 154, 6, 151, 6, 83, 11, 15, 22, 155, 11, 15, 7, 48, 9, 4579, 1005, 504, 6, 258, 6, 272, 11, 15, 22, 134, 44, 11, 15, 16, 8, 197, 1245, 90, 67, 52, 29, 209, 30, 32, 132, 6, 109, 15, 17, 12]\n"
          ]
        }
      ]
    },
    {
      "cell_type": "code",
      "source": [
        "print(x_train10k[0])"
      ],
      "metadata": {
        "colab": {
          "base_uri": "https://localhost:8080/"
        },
        "id": "Gsr2eSrZywar",
        "outputId": "4dad881d-74f3-4bdc-87bc-5596fcf65e68"
      },
      "execution_count": 6,
      "outputs": [
        {
          "output_type": "stream",
          "name": "stdout",
          "text": [
            "[1, 2, 2, 8, 43, 10, 447, 5, 25, 207, 270, 5, 3095, 111, 16, 369, 186, 90, 67, 7, 89, 5, 19, 102, 6, 19, 124, 15, 90, 67, 84, 22, 482, 26, 7, 48, 4, 49, 8, 864, 39, 209, 154, 6, 151, 6, 83, 11, 15, 22, 155, 11, 15, 7, 48, 9, 4579, 1005, 504, 6, 258, 6, 272, 11, 15, 22, 134, 44, 11, 15, 16, 8, 197, 1245, 90, 67, 52, 29, 209, 30, 32, 132, 6, 109, 15, 17, 12]\n"
          ]
        }
      ]
    },
    {
      "cell_type": "markdown",
      "source": [
        "레이블과 데이터 모두 인코딩되어 있습니다."
      ],
      "metadata": {
        "id": "aTnW-y12z4Fw"
      }
    },
    {
      "cell_type": "code",
      "source": [
        "min(y_train10k)"
      ],
      "metadata": {
        "colab": {
          "base_uri": "https://localhost:8080/"
        },
        "id": "MWoDYONB0Jlq",
        "outputId": "024743a7-9613-4555-fdef-069c6eaa37b4"
      },
      "execution_count": 7,
      "outputs": [
        {
          "output_type": "execute_result",
          "data": {
            "text/plain": [
              "0"
            ]
          },
          "metadata": {},
          "execution_count": 7
        }
      ]
    },
    {
      "cell_type": "code",
      "source": [
        "num_classes = max(y_train10k)+1\n",
        "print(\"클래스의 수:\", num_classes)"
      ],
      "metadata": {
        "colab": {
          "base_uri": "https://localhost:8080/"
        },
        "id": "tkOvkvz4z_sY",
        "outputId": "4b9da6a4-bfb6-4d28-8f9c-471496bf0a27"
      },
      "execution_count": 8,
      "outputs": [
        {
          "output_type": "stream",
          "name": "stdout",
          "text": [
            "클래스의 수: 46\n"
          ]
        }
      ]
    },
    {
      "cell_type": "code",
      "source": [
        "# 길이 분포\n",
        "print(\"훈련 데이터의 최대 길이: {}\".format(max(len(row) for row in x_train10k)))\n",
        "print(\"훈련 데이터의 평균 길이: {}\".format(sum(map(len, x_train10k))/len(x_train10k)))\n",
        "\n",
        "plt.hist([len(s) for s in x_train10k], bins=50)\n",
        "plt.xlabel(\"샘플 길이\")\n",
        "plt.ylabel(\"샘플 개수\")\n",
        "plt.show()"
      ],
      "metadata": {
        "colab": {
          "base_uri": "https://localhost:8080/",
          "height": 730
        },
        "id": "XehB5SBN0YnI",
        "outputId": "b2cd71ba-4c8c-4829-a257-ecb9338cc5fe"
      },
      "execution_count": 9,
      "outputs": [
        {
          "output_type": "stream",
          "name": "stdout",
          "text": [
            "훈련 데이터의 최대 길이: 2376\n",
            "훈련 데이터의 평균 길이: 145.5398574927633\n"
          ]
        },
        {
          "output_type": "stream",
          "name": "stderr",
          "text": [
            "/usr/local/lib/python3.7/dist-packages/matplotlib/backends/backend_agg.py:214: RuntimeWarning: Glyph 49368 missing from current font.\n",
            "  font.set_text(s, 0.0, flags=flags)\n",
            "/usr/local/lib/python3.7/dist-packages/matplotlib/backends/backend_agg.py:214: RuntimeWarning: Glyph 54540 missing from current font.\n",
            "  font.set_text(s, 0.0, flags=flags)\n",
            "/usr/local/lib/python3.7/dist-packages/matplotlib/backends/backend_agg.py:214: RuntimeWarning: Glyph 44600 missing from current font.\n",
            "  font.set_text(s, 0.0, flags=flags)\n",
            "/usr/local/lib/python3.7/dist-packages/matplotlib/backends/backend_agg.py:214: RuntimeWarning: Glyph 51060 missing from current font.\n",
            "  font.set_text(s, 0.0, flags=flags)\n",
            "/usr/local/lib/python3.7/dist-packages/matplotlib/backends/backend_agg.py:214: RuntimeWarning: Glyph 44060 missing from current font.\n",
            "  font.set_text(s, 0.0, flags=flags)\n",
            "/usr/local/lib/python3.7/dist-packages/matplotlib/backends/backend_agg.py:214: RuntimeWarning: Glyph 49688 missing from current font.\n",
            "  font.set_text(s, 0.0, flags=flags)\n",
            "/usr/local/lib/python3.7/dist-packages/matplotlib/backends/backend_agg.py:183: RuntimeWarning: Glyph 49368 missing from current font.\n",
            "  font.set_text(s, 0, flags=flags)\n",
            "/usr/local/lib/python3.7/dist-packages/matplotlib/backends/backend_agg.py:183: RuntimeWarning: Glyph 54540 missing from current font.\n",
            "  font.set_text(s, 0, flags=flags)\n",
            "/usr/local/lib/python3.7/dist-packages/matplotlib/backends/backend_agg.py:183: RuntimeWarning: Glyph 44600 missing from current font.\n",
            "  font.set_text(s, 0, flags=flags)\n",
            "/usr/local/lib/python3.7/dist-packages/matplotlib/backends/backend_agg.py:183: RuntimeWarning: Glyph 51060 missing from current font.\n",
            "  font.set_text(s, 0, flags=flags)\n",
            "/usr/local/lib/python3.7/dist-packages/matplotlib/backends/backend_agg.py:183: RuntimeWarning: Glyph 44060 missing from current font.\n",
            "  font.set_text(s, 0, flags=flags)\n",
            "/usr/local/lib/python3.7/dist-packages/matplotlib/backends/backend_agg.py:183: RuntimeWarning: Glyph 49688 missing from current font.\n",
            "  font.set_text(s, 0, flags=flags)\n"
          ]
        },
        {
          "output_type": "display_data",
          "data": {
            "text/plain": [
              "<Figure size 432x288 with 1 Axes>"
            ],
            "image/png": "[encoded data removed]"
          },
          "metadata": {
            "needs_background": "light"
          }
        }
      ]
    },
    {
      "cell_type": "markdown",
      "source": [
        "평균 길이에 비해 최대 길이가 깁니다.\n",
        "\n",
        "클래스 분포를 확인해보겠습니다."
      ],
      "metadata": {
        "id": "qC4PRURd1NI1"
      }
    },
    {
      "cell_type": "code",
      "source": [
        "fig, axe = plt.subplots(ncols=1)\n",
        "fig.set_size_inches(11, 5)\n",
        "sns.countplot(x=y_train10k)\n",
        "plt.show()"
      ],
      "metadata": {
        "colab": {
          "base_uri": "https://localhost:8080/",
          "height": 320
        },
        "id": "8lPcRomC1dM8",
        "outputId": "fbca11c3-256a-49d9-b892-a2aac2e7eb91"
      },
      "execution_count": 10,
      "outputs": [
        {
          "output_type": "display_data",
          "data": {
            "text/plain": [
              "<Figure size 792x360 with 1 Axes>"
            ],
            "image/png": "[encoded data removed]"
          },
          "metadata": {
            "needs_background": "light"
          }
        }
      ]
    },
    {
      "cell_type": "code",
      "source": [
        "unique_elements, counts_elements = np.unique(y_train10k, return_counts=True)\n",
        "print(\"각 클래스 빈도수\")\n",
        "print(np.array((unique_elements, counts_elements)))"
      ],
      "metadata": {
        "colab": {
          "base_uri": "https://localhost:8080/"
        },
        "id": "vfCj2jSl1nl8",
        "outputId": "2c0a6e6a-e6e8-4d5a-968c-d453ad1dc4db"
      },
      "execution_count": 11,
      "outputs": [
        {
          "output_type": "stream",
          "name": "stdout",
          "text": [
            "각 클래스 빈도수\n",
            "[[   0    1    2    3    4    5    6    7    8    9   10   11   12   13\n",
            "    14   15   16   17   18   19   20   21   22   23   24   25   26   27\n",
            "    28   29   30   31   32   33   34   35   36   37   38   39   40   41\n",
            "    42   43   44   45]\n",
            " [  55  432   74 3159 1949   17   48   16  139  101  124  390   49  172\n",
            "    26   20  444   39   66  549  269  100   15   41   62   92   24   15\n",
            "    48   19   45   39   32   11   50   10   49   19   19   24   36   30\n",
            "    13   21   12   18]]\n"
          ]
        }
      ]
    },
    {
      "cell_type": "markdown",
      "source": [
        "물론 결측치가 전부 다 잘 처리된 데이터셋이지만, 일단 혹시 모르니 확인해보겠습니다."
      ],
      "metadata": {
        "id": "rwH4bbx114fM"
      }
    },
    {
      "cell_type": "code",
      "source": [
        "train_set = pd.DataFrame(columns=['x_train', 'y_train'])\n",
        "test_set = pd.DataFrame(columns=['x_test', 'y_test'])\n",
        "\n",
        "train_set['x_train'] = x_train10k\n",
        "train_set['y_train'] = y_train10k\n",
        "test_set['x_test'] = x_test10k\n",
        "test_set['y_test'] = y_test10k\n",
        "\n",
        "print(\"Done!\")"
      ],
      "metadata": {
        "colab": {
          "base_uri": "https://localhost:8080/"
        },
        "id": "ds65wqB-2myL",
        "outputId": "7547a514-4a4c-4933-96e2-2032c1155644"
      },
      "execution_count": 12,
      "outputs": [
        {
          "output_type": "stream",
          "name": "stdout",
          "text": [
            "Done!\n"
          ]
        }
      ]
    },
    {
      "cell_type": "code",
      "source": [
        "train_set.isnull().sum()"
      ],
      "metadata": {
        "colab": {
          "base_uri": "https://localhost:8080/"
        },
        "id": "5HmC6NF33xkl",
        "outputId": "6f31238d-a748-4acf-c227-bb57e8a84bc5"
      },
      "execution_count": 13,
      "outputs": [
        {
          "output_type": "execute_result",
          "data": {
            "text/plain": [
              "x_train    0\n",
              "y_train    0\n",
              "dtype: int64"
            ]
          },
          "metadata": {},
          "execution_count": 13
        }
      ]
    },
    {
      "cell_type": "code",
      "source": [
        "test_set.isnull().sum()"
      ],
      "metadata": {
        "colab": {
          "base_uri": "https://localhost:8080/"
        },
        "id": "mJX9ttQM4E17",
        "outputId": "49c01c5f-85df-49f0-ef13-412406f981e8"
      },
      "execution_count": 14,
      "outputs": [
        {
          "output_type": "execute_result",
          "data": {
            "text/plain": [
              "x_test    0\n",
              "y_test    0\n",
              "dtype: int64"
            ]
          },
          "metadata": {},
          "execution_count": 14
        }
      ]
    },
    {
      "cell_type": "markdown",
      "source": [
        "결측치는 없습니다."
      ],
      "metadata": {
        "id": "GuWU3m5p4RfK"
      }
    },
    {
      "cell_type": "markdown",
      "source": [
        "---"
      ],
      "metadata": {
        "id": "s92J8fxI4epz"
      }
    },
    {
      "cell_type": "markdown",
      "source": [
        "# **03. 벡터화하기**\n",
        "\n",
        "DTM 기반 전처리를 하려면 다시 디코딩을 해주어야 합니다."
      ],
      "metadata": {
        "id": "acY8GT5w4fPh"
      }
    },
    {
      "cell_type": "code",
      "source": [
        "word_index = reuters.get_word_index(path=\"reuters_word_index.json\")"
      ],
      "metadata": {
        "id": "Md4lzP1D4hip",
        "colab": {
          "base_uri": "https://localhost:8080/"
        },
        "outputId": "ea44c863-6eab-453b-b16b-0794b495faec"
      },
      "execution_count": 15,
      "outputs": [
        {
          "output_type": "stream",
          "name": "stdout",
          "text": [
            "Downloading data from https://storage.googleapis.com/tensorflow/tf-keras-datasets/reuters_word_index.json\n",
            "557056/550378 [==============================] - 0s 0us/step\n",
            "565248/550378 [==============================] - 0s 0us/step\n"
          ]
        }
      ]
    },
    {
      "cell_type": "code",
      "source": [
        "# index +3\n",
        "index_to_word = {index + 3 : word for word, index in word_index.items()}\n",
        "print(\"Done!\")"
      ],
      "metadata": {
        "colab": {
          "base_uri": "https://localhost:8080/"
        },
        "id": "p8ADf07NgHfj",
        "outputId": "57dd29f2-9c83-4bb5-a312-8c06cc721486"
      },
      "execution_count": 16,
      "outputs": [
        {
          "output_type": "stream",
          "name": "stdout",
          "text": [
            "Done!\n"
          ]
        }
      ]
    },
    {
      "cell_type": "code",
      "source": [
        "# 0=<pad>, 1=<sos>, 2=<unk>\n",
        "for index, token in enumerate((\"<pad>\", \"<sos>\", \"<unk>\")):\n",
        "  index_to_word[index]=token\n",
        "\n",
        "print(\"Done!\")"
      ],
      "metadata": {
        "colab": {
          "base_uri": "https://localhost:8080/"
        },
        "id": "AxaFjOKZcEHW",
        "outputId": "432ec8a7-d27b-44ad-bc49-3a80261aaf20"
      },
      "execution_count": 17,
      "outputs": [
        {
          "output_type": "stream",
          "name": "stdout",
          "text": [
            "Done!\n"
          ]
        }
      ]
    },
    {
      "cell_type": "code",
      "source": [
        "print(' '.join([index_to_word[index] for index in x_train10k[0]]))"
      ],
      "metadata": {
        "colab": {
          "base_uri": "https://localhost:8080/"
        },
        "id": "TYNmsWsBcUsN",
        "outputId": "5e62b64f-52c7-46c3-ea32-b44fd4b90676"
      },
      "execution_count": 18,
      "outputs": [
        {
          "output_type": "stream",
          "name": "stdout",
          "text": [
            "<sos> <unk> <unk> said as a result of its december acquisition of space co it expects earnings per share in 1987 of 1 15 to 1 30 dlrs per share up from 70 cts in 1986 the company said pretax net should rise to nine to 10 mln dlrs from six mln dlrs in 1986 and rental operation revenues to 19 to 22 mln dlrs from 12 5 mln dlrs it said cash flow per share this year should be 2 50 to three dlrs reuter 3\n"
          ]
        }
      ]
    },
    {
      "cell_type": "code",
      "source": [
        "# 전체 데이터 변환\n",
        "decoded_10k, decoded_5k, decoded_none = [], [], []\n",
        "test10k, test5k, test_none = [], [], []\n",
        "\n",
        "## train\n",
        "# 10k\n",
        "for i in range(len(x_train10k)):\n",
        "    t = ' '.join([index_to_word[index] for index in x_train10k[i]])\n",
        "    decoded_10k.append(t)\n",
        "x_train10k = decoded_10k\n",
        "\n",
        "# 5k\n",
        "for i in range(len(x_train5k)):\n",
        "    t = ' '.join([index_to_word[index] for index in x_train5k[i]])\n",
        "    decoded_5k.append(t)\n",
        "x_train5k = decoded_5k\n",
        "\n",
        "# none\n",
        "for i in range(len(x_train_none)):\n",
        "    t = ' '.join([index_to_word[index] for index in x_train_none[i]])\n",
        "    decoded_none.append(t)\n",
        "x_train_none = decoded_none\n",
        "\n",
        "## test\n",
        "# 10k\n",
        "for i in range(len(x_test10k)):\n",
        "    t = ' '.join([index_to_word[index] for index in x_test10k[i]])\n",
        "    test10k.append(t)\n",
        "x_test10k = test10k\n",
        "\n",
        "# 5k\n",
        "for i in range(len(x_test5k)):\n",
        "    t = ' '.join([index_to_word[index] for index in x_test5k[i]])\n",
        "    test5k.append(t)\n",
        "x_test5k = test5k\n",
        "\n",
        "# none\n",
        "for i in range(len(x_test_none)):\n",
        "    t = ' '.join([index_to_word[index] for index in x_test_none[i]])\n",
        "    test_none.append(t)\n",
        "x_test_none = test_none\n",
        "\n",
        "print(\"Done!\")"
      ],
      "metadata": {
        "colab": {
          "base_uri": "https://localhost:8080/"
        },
        "id": "p730SurZmcTF",
        "outputId": "fc8eb6f6-8905-4d92-cd6b-3515270f38b0"
      },
      "execution_count": 19,
      "outputs": [
        {
          "output_type": "stream",
          "name": "stdout",
          "text": [
            "Done!\n"
          ]
        }
      ]
    },
    {
      "cell_type": "markdown",
      "source": [
        "## **3-1. train data 변환**"
      ],
      "metadata": {
        "id": "aFMHX2nLpmdZ"
      }
    },
    {
      "cell_type": "code",
      "source": [
        "## DTM 생성\n",
        "# 5k\n",
        "dtmvector = CountVectorizer()\n",
        "x_train_dtm5k = dtmvector.fit_transform(x_train5k)\n",
        "print(\"5k: {}\".format(x_train_dtm5k.shape))\n",
        "\n",
        "# 10k\n",
        "dtmvector2 = CountVectorizer()\n",
        "x_train_dtm10k = dtmvector2.fit_transform(x_train10k)\n",
        "print(\"10k: {}\".format(x_train_dtm10k.shape))\n",
        "\n",
        "# none\n",
        "dtmvector3 = CountVectorizer()\n",
        "x_train_dtm_none = dtmvector3.fit_transform(x_train_none)\n",
        "print(\"None: {}\".format(x_train_dtm_none.shape))"
      ],
      "metadata": {
        "colab": {
          "base_uri": "https://localhost:8080/"
        },
        "id": "C_2pelPGnhd3",
        "outputId": "81298d4f-8c95-4467-a060-565158b028ae"
      },
      "execution_count": 20,
      "outputs": [
        {
          "output_type": "stream",
          "name": "stdout",
          "text": [
            "5k: (8982, 4867)\n",
            "10k: (8982, 9670)\n",
            "None: (8982, 26506)\n"
          ]
        }
      ]
    },
    {
      "cell_type": "code",
      "source": [
        "## TF-IDF 생성\n",
        "# 5k\n",
        "tfidf_transformer = TfidfTransformer()\n",
        "tfidfv_5k = tfidf_transformer.fit_transform(x_train_dtm5k)\n",
        "print(tfidfv_5k.shape)\n",
        "\n",
        "# 10k\n",
        "tfidf_transformer2 = TfidfTransformer()\n",
        "tfidfv_10k = tfidf_transformer2.fit_transform(x_train_dtm10k)\n",
        "print(tfidfv_10k.shape)\n",
        "\n",
        "# none\n",
        "tfidf_transformer3 = TfidfTransformer()\n",
        "tfidfv_none = tfidf_transformer3.fit_transform(x_train_dtm_none)\n",
        "print(tfidfv_none.shape)"
      ],
      "metadata": {
        "colab": {
          "base_uri": "https://localhost:8080/"
        },
        "id": "h7aQSaYnoF69",
        "outputId": "e3bbb511-3bf5-4d57-b128-bf03049537d9"
      },
      "execution_count": 21,
      "outputs": [
        {
          "output_type": "stream",
          "name": "stdout",
          "text": [
            "(8982, 4867)\n",
            "(8982, 9670)\n",
            "(8982, 26506)\n"
          ]
        }
      ]
    },
    {
      "cell_type": "markdown",
      "source": [
        "## **3-2. test data 변환**"
      ],
      "metadata": {
        "id": "YSAyxalIpqOo"
      }
    },
    {
      "cell_type": "code",
      "source": [
        "## DTM / TF-IDF 생성\n",
        "# 5k\n",
        "x_test_dtm5k = dtmvector.transform(x_test5k)\n",
        "tfidfv_5k_test = tfidf_transformer.transform(x_test_dtm5k)\n",
        "print(\"5k: {}\".format(tfidfv_5k_test.shape))\n",
        "\n",
        "# 10k\n",
        "x_test_dtm10k = dtmvector2.transform(x_test10k)\n",
        "tfidfv_10k_test = tfidf_transformer2.transform(x_test_dtm10k)\n",
        "print(\"10k: {}\".format(tfidfv_10k_test.shape))\n",
        "\n",
        "# none\n",
        "x_test_dtm_none = dtmvector3.transform(x_test_none)\n",
        "tfidfv_none_test = tfidf_transformer3.transform(x_test_dtm_none)\n",
        "print(\"None: {}\".format(tfidfv_none_test.shape))"
      ],
      "metadata": {
        "colab": {
          "base_uri": "https://localhost:8080/"
        },
        "id": "19T_uekmptGZ",
        "outputId": "52fa9168-2d0f-4ae8-a2ef-61e370c37681"
      },
      "execution_count": 22,
      "outputs": [
        {
          "output_type": "stream",
          "name": "stdout",
          "text": [
            "5k: (2246, 4867)\n",
            "10k: (2246, 9670)\n",
            "None: (2246, 26506)\n"
          ]
        }
      ]
    },
    {
      "cell_type": "markdown",
      "source": [
        "---"
      ],
      "metadata": {
        "id": "jbNOZb0cnLne"
      }
    },
    {
      "cell_type": "markdown",
      "source": [
        "# **04. 모델 테스트**"
      ],
      "metadata": {
        "id": "AnE0YHXwneCc"
      }
    },
    {
      "cell_type": "markdown",
      "source": [
        "## **4-1. 함수 선언**"
      ],
      "metadata": {
        "id": "DvmcihFwng9z"
      }
    },
    {
      "cell_type": "code",
      "source": [
        "# 모델별로 하이퍼파라미터 튜닝 없이 기본 fit 함수 활용\n",
        "def default_model_testing(train_data, y_train, x_test, y_test, name):\n",
        "    model = name()\n",
        "    model.fit(train_data, y_train)\n",
        "    predicted = model.predict(x_test)\n",
        "    print(name, \"accuracy: {}\".format(accuracy_score(y_test, predicted)))\n",
        "\n",
        "print(\"Done!\")"
      ],
      "metadata": {
        "colab": {
          "base_uri": "https://localhost:8080/"
        },
        "id": "8NXfcdoLFvSu",
        "outputId": "f2276042-2739-42a0-83ff-f4f016e3c15b"
      },
      "execution_count": 23,
      "outputs": [
        {
          "output_type": "stream",
          "name": "stdout",
          "text": [
            "Done!\n"
          ]
        }
      ]
    },
    {
      "cell_type": "code",
      "source": [
        "# 모델별로 하이퍼파라미터 튜닝\n",
        "random_state = 2022\n",
        "\n",
        "def tuned_model_testing(train_data, y_train, x_test, y_test):\n",
        "\n",
        "    # 01. 나이브 베이즈\n",
        "    model = MultinomialNB()\n",
        "    model.fit(train_data, y_train)\n",
        "    predicted = model.predict(x_test)\n",
        "    print(\"나이브 베이즈 ACC: {}\".format(accuracy_score(y_test, predicted)))\n",
        "    \n",
        "    # 02. Complement NB\n",
        "    model = ComplementNB()\n",
        "    model.fit(train_data, y_train)\n",
        "    predicted = model.predict(x_test)\n",
        "    print(\"Complemnet NB ACC: {}\".format(accuracy_score(y_test, predicted)))\n",
        "\n",
        "    # 03. Logistic Regression\n",
        "    model = LogisticRegression(C=10000, penalty='l2')\n",
        "    model.fit(train_data, y_train)\n",
        "    predicted = model.predict(x_test)\n",
        "    print(\"Logistic Regression ACC: {}\".format(accuracy_score(y_test, predicted)))\n",
        "\n",
        "    # 04. SGD Classifier\n",
        "    model = SGDClassifier()\n",
        "    model.fit(train_data, y_train)\n",
        "    predicted = model.predict(x_test)\n",
        "    print(\"SGD Classifier ACC: {}\".format(accuracy_score(y_test, predicted)))\n",
        "\n",
        "    # 05. Decision Tree\n",
        "    model = DecisionTreeClassifier(max_depth=10, random_state=random_state)\n",
        "    model.fit(train_data, y_train)\n",
        "    predicted = model.predict(x_test)\n",
        "    print(\"Decision Tree ACC: {}\".format(accuracy_score(y_test, predicted)))\n",
        "\n",
        "    # 06. Random Forest\n",
        "    model = RandomForestClassifier(n_estimators=5, random_state=random_state)\n",
        "    model.fit(train_data, y_train)\n",
        "    predicted = model.predict(x_test)\n",
        "    print(\"Random Forest ACC: {}\".format(accuracy_score(y_test, predicted)))\n",
        "    \n",
        "    # 07. GradientBoosting\n",
        "    model = GradientBoostingClassifier(random_state=random_state)\n",
        "    model.fit(train_data, y_train)\n",
        "    predicted = model.predict(x_test)\n",
        "    print(\"GradientBoosting ACC: {}\".format(accuracy_score(y_test, predicted)))\n",
        "\n",
        "    # 08. LinearSVC\n",
        "    # LinearSVC는 L2 Reg, c=1.0가 디폴트\n",
        "    model = LinearSVC()\n",
        "    model.fit(train_data, y_train)\n",
        "    predicted = model.predict(x_test)\n",
        "    print(\"LinearSVC ACC: {}\".format(accuracy_score(y_test, predicted)))\n",
        "\n",
        "print(\"Done!\")"
      ],
      "metadata": {
        "colab": {
          "base_uri": "https://localhost:8080/"
        },
        "id": "zvNTppPDLXYU",
        "outputId": "181bbedc-a077-4e24-8efc-0f79d13aaf0b"
      },
      "execution_count": 36,
      "outputs": [
        {
          "output_type": "stream",
          "name": "stdout",
          "text": [
            "Done!\n"
          ]
        }
      ]
    },
    {
      "cell_type": "markdown",
      "source": [
        "## **4-2 훈련 & 평가**"
      ],
      "metadata": {
        "id": "4tFSpIOxYrBr"
      }
    },
    {
      "cell_type": "markdown",
      "source": [
        "### **4-2-1. 디폴트 함수를 사용할 경우**"
      ],
      "metadata": {
        "id": "vBpMMjzbaKl9"
      }
    },
    {
      "cell_type": "code",
      "source": [
        "# 10k\n",
        "model_list = [MultinomialNB, ComplementNB,\n",
        "              LogisticRegression, SGDClassifier,\n",
        "              DecisionTreeClassifier, RandomForestClassifier,\n",
        "              GradientBoostingClassifier, LinearSVC]\n",
        "\n",
        "for names in model_list:\n",
        "    default_model_testing(tfidfv_10k, y_train10k, tfidfv_10k_test, y_test10k, names)"
      ],
      "metadata": {
        "colab": {
          "base_uri": "https://localhost:8080/"
        },
        "id": "zodQby0kGlkt",
        "outputId": "788a73a5-e4d2-4f96-ad88-32959dab387f"
      },
      "execution_count": 25,
      "outputs": [
        {
          "output_type": "stream",
          "name": "stdout",
          "text": [
            "<class 'sklearn.naive_bayes.MultinomialNB'> accuracy: 0.6567230632235085\n",
            "<class 'sklearn.naive_bayes.ComplementNB'> accuracy: 0.7707034728406055\n"
          ]
        },
        {
          "output_type": "stream",
          "name": "stderr",
          "text": [
            "/usr/local/lib/python3.7/dist-packages/sklearn/linear_model/_logistic.py:818: ConvergenceWarning: lbfgs failed to converge (status=1):\n",
            "STOP: TOTAL NO. of ITERATIONS REACHED LIMIT.\n",
            "\n",
            "Increase the number of iterations (max_iter) or scale the data as shown in:\n",
            "    https://scikit-learn.org/stable/modules/preprocessing.html\n",
            "Please also refer to the documentation for alternative solver options:\n",
            "    https://scikit-learn.org/stable/modules/linear_model.html#logistic-regression\n",
            "  extra_warning_msg=_LOGISTIC_SOLVER_CONVERGENCE_MSG,\n"
          ]
        },
        {
          "output_type": "stream",
          "name": "stdout",
          "text": [
            "<class 'sklearn.linear_model._logistic.LogisticRegression'> accuracy: 0.7951914514692787\n",
            "<class 'sklearn.linear_model._stochastic_gradient.SGDClassifier'> accuracy: 0.8450578806767587\n",
            "<class 'sklearn.tree._classes.DecisionTreeClassifier'> accuracy: 0.6932324131789849\n",
            "<class 'sklearn.ensemble._forest.RandomForestClassifier'> accuracy: 0.7537845057880677\n",
            "<class 'sklearn.ensemble._gb.GradientBoostingClassifier'> accuracy: 0.7662511130899377\n",
            "<class 'sklearn.svm._classes.LinearSVC'> accuracy: 0.8299198575244879\n"
          ]
        }
      ]
    },
    {
      "cell_type": "code",
      "source": [
        "# 5k\n",
        "for names in model_list:\n",
        "    default_model_testing(tfidfv_5k, y_train5k, tfidfv_5k_test, y_test5k, names)"
      ],
      "metadata": {
        "colab": {
          "base_uri": "https://localhost:8080/"
        },
        "id": "x3h4GSleYZ7J",
        "outputId": "ed69d679-8362-41e0-e776-85d3e96b5c5f"
      },
      "execution_count": 26,
      "outputs": [
        {
          "output_type": "stream",
          "name": "stdout",
          "text": [
            "<class 'sklearn.naive_bayes.MultinomialNB'> accuracy: 0.6731967943009796\n",
            "<class 'sklearn.naive_bayes.ComplementNB'> accuracy: 0.7707034728406055\n"
          ]
        },
        {
          "output_type": "stream",
          "name": "stderr",
          "text": [
            "/usr/local/lib/python3.7/dist-packages/sklearn/linear_model/_logistic.py:818: ConvergenceWarning: lbfgs failed to converge (status=1):\n",
            "STOP: TOTAL NO. of ITERATIONS REACHED LIMIT.\n",
            "\n",
            "Increase the number of iterations (max_iter) or scale the data as shown in:\n",
            "    https://scikit-learn.org/stable/modules/preprocessing.html\n",
            "Please also refer to the documentation for alternative solver options:\n",
            "    https://scikit-learn.org/stable/modules/linear_model.html#logistic-regression\n",
            "  extra_warning_msg=_LOGISTIC_SOLVER_CONVERGENCE_MSG,\n"
          ]
        },
        {
          "output_type": "stream",
          "name": "stdout",
          "text": [
            "<class 'sklearn.linear_model._logistic.LogisticRegression'> accuracy: 0.7978628673196795\n",
            "<class 'sklearn.linear_model._stochastic_gradient.SGDClassifier'> accuracy: 0.8423864648263579\n",
            "<class 'sklearn.tree._classes.DecisionTreeClassifier'> accuracy: 0.6959038290293855\n",
            "<class 'sklearn.ensemble._forest.RandomForestClassifier'> accuracy: 0.7658058771148709\n",
            "<class 'sklearn.ensemble._gb.GradientBoostingClassifier'> accuracy: 0.7707034728406055\n",
            "<class 'sklearn.svm._classes.LinearSVC'> accuracy: 0.8290293855743545\n"
          ]
        }
      ]
    },
    {
      "cell_type": "code",
      "source": [
        "# None\n",
        "for names in model_list:\n",
        "    default_model_testing(tfidfv_none, y_train_none, tfidfv_none_test, y_test_none, names)"
      ],
      "metadata": {
        "colab": {
          "base_uri": "https://localhost:8080/"
        },
        "id": "Xs5tVHV_YhpP",
        "outputId": "e7a1ed90-15d0-4950-b7b1-981cfd48bcf8"
      },
      "execution_count": 27,
      "outputs": [
        {
          "output_type": "stream",
          "name": "stdout",
          "text": [
            "<class 'sklearn.naive_bayes.MultinomialNB'> accuracy: 0.5997328584149599\n",
            "<class 'sklearn.naive_bayes.ComplementNB'> accuracy: 0.7649154051647373\n"
          ]
        },
        {
          "output_type": "stream",
          "name": "stderr",
          "text": [
            "/usr/local/lib/python3.7/dist-packages/sklearn/linear_model/_logistic.py:818: ConvergenceWarning: lbfgs failed to converge (status=1):\n",
            "STOP: TOTAL NO. of ITERATIONS REACHED LIMIT.\n",
            "\n",
            "Increase the number of iterations (max_iter) or scale the data as shown in:\n",
            "    https://scikit-learn.org/stable/modules/preprocessing.html\n",
            "Please also refer to the documentation for alternative solver options:\n",
            "    https://scikit-learn.org/stable/modules/linear_model.html#logistic-regression\n",
            "  extra_warning_msg=_LOGISTIC_SOLVER_CONVERGENCE_MSG,\n"
          ]
        },
        {
          "output_type": "stream",
          "name": "stdout",
          "text": [
            "<class 'sklearn.linear_model._logistic.LogisticRegression'> accuracy: 0.7920747996438112\n",
            "<class 'sklearn.linear_model._stochastic_gradient.SGDClassifier'> accuracy: 0.8459483526268923\n",
            "<class 'sklearn.tree._classes.DecisionTreeClassifier'> accuracy: 0.6994657168299199\n",
            "<class 'sklearn.ensemble._forest.RandomForestClassifier'> accuracy: 0.744879786286732\n",
            "<class 'sklearn.ensemble._gb.GradientBoostingClassifier'> accuracy: 0.7724844167408726\n",
            "<class 'sklearn.svm._classes.LinearSVC'> accuracy: 0.8294746215494212\n"
          ]
        }
      ]
    },
    {
      "cell_type": "markdown",
      "source": [
        "결과값을 표로 나타내면 다음과 같습니다.\n",
        "\n",
        "num_words | Multinomial NB | Complement NB | Logistic Regression | Stochastic Gradient Descent | Decision Tree | Random Forest | Gradient Boosting | Linear SVC\n",
        ":--|--:|--:|--:|--:|--:|--:|--:|--:\n",
        "**5k** | 67.32 | 77.07 | 79.79 | 84.24 | 69.59 | 76.58 | 77.07 | 82.90\n",
        "**10k** | 65.67 | 77.07 | 79.52 | 84.51 | 69.32 | 75.38 | 76.63 | 82.99\n",
        "**None** | 59.97 | 76.49 | 79.21 | 84.60 | 69.95 | 74.49 | 77.25 | 82.95\n"
      ],
      "metadata": {
        "id": "6jDUA6AJcDSs"
      }
    },
    {
      "cell_type": "markdown",
      "source": [
        "모델에 따라 num_words의 크기에 따른 결과가 다릅니다. 일부는 num_words가 작을 수록 성능이 향상되고, 다른 것들은 그 반대입니다.\n",
        "\n",
        "일관적으로 성능이 줄어드는 특정 모델들의 경우 베이지안 기반이라는 공통점이 있습니다. 베이지안 기반 모델의 특징은 각각의 피처를 동등하게 보는 경험적 확률을 사용하기 때문에 참고하는 데이터의 개수에 큰 영향을 받는다는 것입니다. 즉, 참고할 피처 수가 늘어날 수록 모델의 추론력이 하락한다는 단점이 있습니다.\n",
        "\n",
        "이 경우, num_words가 참고하는 데이터의 개수에 해당합니다.\n",
        "\n",
        "실제로 Multinomial/Complement NB 모델의 경우 일관적으로 성능이 줄어듭니다. 반면에 Gradient Boosting과 Linear SVC의 경우에는 성능의 변화가 일관적이지 않습니다. 이 경우에는 결과의 신뢰도가 다소 저하되므로, 데이터 크기에 따른 일관적인 성능 변화를 보여준 모델들(MNB, CNB, LR, RF)을 기준으로 적합한 num_words를 선정하겠습니다.\n",
        "\n",
        "따라서 **적합한 num_words = 5k**입니다."
      ],
      "metadata": {
        "id": "ryutjM7hcQ16"
      }
    },
    {
      "cell_type": "markdown",
      "source": [
        "### **4-2-2. 하이퍼 파라미터 튜닝했을 경우**"
      ],
      "metadata": {
        "id": "2bh4cfnZaOQ0"
      }
    },
    {
      "cell_type": "code",
      "source": [
        "# 5k\n",
        "tuned_model_testing(tfidfv_5k, y_train5k, tfidfv_5k_test, y_test5k)"
      ],
      "metadata": {
        "colab": {
          "base_uri": "https://localhost:8080/"
        },
        "id": "spgin7rtaYoV",
        "outputId": "bb708aea-fcdd-4644-af8c-2eea4aafe24c"
      },
      "execution_count": 38,
      "outputs": [
        {
          "output_type": "stream",
          "name": "stdout",
          "text": [
            "나이브 베이즈 ACC: 0.6731967943009796\n",
            "Complemnet NB ACC: 0.7707034728406055\n"
          ]
        },
        {
          "output_type": "stream",
          "name": "stderr",
          "text": [
            "/usr/local/lib/python3.7/dist-packages/sklearn/linear_model/_logistic.py:818: ConvergenceWarning: lbfgs failed to converge (status=1):\n",
            "STOP: TOTAL NO. of ITERATIONS REACHED LIMIT.\n",
            "\n",
            "Increase the number of iterations (max_iter) or scale the data as shown in:\n",
            "    https://scikit-learn.org/stable/modules/preprocessing.html\n",
            "Please also refer to the documentation for alternative solver options:\n",
            "    https://scikit-learn.org/stable/modules/linear_model.html#logistic-regression\n",
            "  extra_warning_msg=_LOGISTIC_SOLVER_CONVERGENCE_MSG,\n"
          ]
        },
        {
          "output_type": "stream",
          "name": "stdout",
          "text": [
            "Logistic Regression ACC: 0.8058771148708815\n",
            "SGD Classifier ACC: 0.8410507569011576\n",
            "Decision Tree ACC: 0.6179875333926982\n",
            "Random Forest ACC: 0.7008014247551202\n",
            "GradientBoosting ACC: 0.7671415850400712\n",
            "LinearSVC ACC: 0.8290293855743545\n"
          ]
        }
      ]
    },
    {
      "cell_type": "markdown",
      "source": [
        "### **4-3.3 Soft Voting**\n",
        "\n",
        "status | Multinomial NB | Complement NB | Logistic Regression | Stochastic Gradient Descent | Decision Tree | Random Forest | Gradient Boosting | Linear SVC\n",
        ":--|--:|--:|--:|--:|--:|--:|--:|--:\n",
        "**Before** (not tuned) | 67.32 | 77.07 | 79.79 | **84.24** | **69.59** | **76.58** | **77.07** | 82.90\n",
        "**After** (tuned) | 67.32 | 77.07 | **80.59** | 84.11 | 61.80 | 70.08 | 76.71 | 82.90\n",
        "**Is Tuned?** | N | N | Y | N | Y | Y | Y | N\n",
        "\n"
      ],
      "metadata": {
        "id": "siSVpqx-lHAC"
      }
    },
    {
      "cell_type": "markdown",
      "source": [
        "결과는 위와 같습니다.\n",
        "\n",
        "성능의 우열은 크게 바뀌지 않습니다만 SGD의 경우 별도의 하이퍼 파라미터 지정을 하지 않았음에도 모델의 특성상 (확률 이슈로 인해) 성능이 조금 차이나는 것을 확인할 수 있습니다.\n",
        "\n",
        "하이퍼 파라미터 튜닝을 해준 모델들(DT, RF, GB, LR) 중 로지스틱 회귀를 제외한 나머지는 오히려 성능이 저하되었습니다. 노드에서 제공하는 하이퍼 파라미터 옵션이 최적화된 옵션이 아니라는 의미일 수 있겠네요. (사실 Logistic Regression에서 iteration 경고가 나타나는 것을 보면 최적화된 옵션이 아니라는 점을 미리 알 수 있긴 합니다.)\n",
        "\n",
        "이제 Top3 모델 (SGD, Linear SVC, Logistic Regression)을 골라 보팅을 하겠습니다. 데이터가 불균형하므로 f1 score를 사용할 수도 있겠지만, 뉴스 카테고리 분류 문제는 어찌됐든 정답을 맞추기만 하면 되므로 여기서는 accuracy를 기준으로 평가합니다."
      ],
      "metadata": {
        "id": "2K72IX5R2Jar"
      }
    },
    {
      "cell_type": "code",
      "source": [
        "# hard voting\n",
        "def voting_test(train_data, y_train, x_test, y_test):\n",
        "    voting_classifier = VotingClassifier(estimators=[('SGD', SGDClassifier(random_state=random_state)),\n",
        "                                                     ('LSVC', LinearSVC(random_state=random_state)),\n",
        "                                                     ('LR', LogisticRegression(random_state=random_state, C=10000, penalty='l2'))],\n",
        "                                         \n",
        "                                         # SGDClassifier의 디폴트 loss함수가 hinge이기 때문에 바로 soft voting이 되지 않습니다.\n",
        "                                         # 또한 LinearSVC는 클래스 확률값을 제공하지 않으므로 probability=True 옵션을 주어야 합니다.\n",
        "                                         # 여기서는 간단하게 hard voting을 사용합니다.\n",
        "\n",
        "                                         voting='hard', n_jobs=-1)\n",
        "\n",
        "    voting_classifier.fit(train_data, y_train)\n",
        "    predicted = voting_classifier.predict(x_test)\n",
        "    print(\"Voting ACC: {}\".format(accuracy_score(y_test, predicted)))\n",
        "\n",
        "print(\"Done!\")"
      ],
      "metadata": {
        "colab": {
          "base_uri": "https://localhost:8080/"
        },
        "id": "dBwJAfdIuWA3",
        "outputId": "56e25cd0-2472-4c23-fe6d-727b7df31a38"
      },
      "execution_count": 61,
      "outputs": [
        {
          "output_type": "stream",
          "name": "stdout",
          "text": [
            "Done!\n"
          ]
        }
      ]
    },
    {
      "cell_type": "code",
      "source": [
        "voting_test(tfidfv_5k, y_train5k, tfidfv_5k_test, y_test5k)"
      ],
      "metadata": {
        "colab": {
          "base_uri": "https://localhost:8080/"
        },
        "id": "2dPWi_8Px5l4",
        "outputId": "d3d0f1d2-4f4f-4b3a-ae1a-6df58e8305a6"
      },
      "execution_count": 62,
      "outputs": [
        {
          "output_type": "stream",
          "name": "stdout",
          "text": [
            "Voting ACC: 0.8290293855743545\n"
          ]
        }
      ]
    },
    {
      "cell_type": "markdown",
      "source": [
        "머신러닝 모델의 최종 ACC 결과값은 0.8290 입니다."
      ],
      "metadata": {
        "id": "yIplciuP1pz6"
      }
    },
    {
      "cell_type": "markdown",
      "source": [
        "# **05. 딥러닝 모델과 비교**"
      ],
      "metadata": {
        "id": "I3x92AsifLBV"
      }
    },
    {
      "cell_type": "markdown",
      "source": [
        "## **5-1. Simple RNN**\n",
        "\n",
        "TF-IDF 모델은 기본적으로 문서가 포함하는 단어들의 빈도를 기반으로 삼습니다.\n",
        "\n",
        "하지만 그 순서는 알기 어렵기 때문에 데이터를 순서대로 넣어줘야 할 필요가 있습니다.\n",
        "\n",
        "따라서 시퀀스 처리에 적합한 딥러닝 모델을 사용합니다."
      ],
      "metadata": {
        "id": "YaxTKyj-fPrL"
      }
    },
    {
      "cell_type": "code",
      "source": [
        "# simple RNN\n",
        "\n",
        "vocab_size = 20000\n",
        "word_vector_dim = 128  \n",
        "\n",
        "model_LSTM = keras.Sequential()\n",
        "model_LSTM.add(keras.layers.Embedding(vocab_size, word_vector_dim))\n",
        "model_LSTM.add(keras.layers.LSTM(64))\n",
        "model_LSTM.add(keras.layers.Dense(num_classes, activation='softmax'))  \n",
        "\n",
        "model_LSTM.summary()"
      ],
      "metadata": {
        "colab": {
          "base_uri": "https://localhost:8080/"
        },
        "id": "rmxEJFvrfRzE",
        "outputId": "33d382bc-22d5-4b88-f3f7-fe2b1481cd23"
      },
      "execution_count": 100,
      "outputs": [
        {
          "output_type": "stream",
          "name": "stdout",
          "text": [
            "Model: \"sequential_6\"\n",
            "_________________________________________________________________\n",
            " Layer (type)                Output Shape              Param #   \n",
            "=================================================================\n",
            " embedding_6 (Embedding)     (None, None, 128)         2560000   \n",
            "                                                                 \n",
            " lstm_6 (LSTM)               (None, 64)                49408     \n",
            "                                                                 \n",
            " dense_10 (Dense)            (None, 46)                2990      \n",
            "                                                                 \n",
            "=================================================================\n",
            "Total params: 2,612,398\n",
            "Trainable params: 2,612,398\n",
            "Non-trainable params: 0\n",
            "_________________________________________________________________\n"
          ]
        }
      ]
    },
    {
      "cell_type": "code",
      "source": [
        "# 5k\n",
        "tfidfv_5k.shape, y_train5k.shape"
      ],
      "metadata": {
        "colab": {
          "base_uri": "https://localhost:8080/"
        },
        "id": "r62ZVnQsfwp-",
        "outputId": "df300370-1def-4748-8247-a1b390b93d15"
      },
      "execution_count": 101,
      "outputs": [
        {
          "output_type": "execute_result",
          "data": {
            "text/plain": [
              "((8982, 4867), (8982,))"
            ]
          },
          "metadata": {},
          "execution_count": 101
        }
      ]
    },
    {
      "cell_type": "code",
      "source": [
        "# seq data 형태로 변환\n",
        "tfidfv_5k_densed = tfidfv_5k.toarray()\n",
        "print(\"Done!\")"
      ],
      "metadata": {
        "colab": {
          "base_uri": "https://localhost:8080/"
        },
        "id": "ZTuvNNSDkAoQ",
        "outputId": "beb81da4-1d68-41b8-9978-fa7f5b078ea6"
      },
      "execution_count": 102,
      "outputs": [
        {
          "output_type": "stream",
          "name": "stdout",
          "text": [
            "Done!\n"
          ]
        }
      ]
    },
    {
      "cell_type": "code",
      "source": [
        "es = keras.callbacks.EarlyStopping(monitor='val_loss', mode='min', verbose=1, patience=4)\n",
        "\n",
        "model_LSTM.compile(optimizer='adam',\n",
        "                   loss='sparse_categorical_crossentropy',\n",
        "                   metrics=['accuracy'])\n",
        "            \n",
        "epochs=20\n",
        "batch_size=64\n",
        "\n",
        "print(\"Done!\")"
      ],
      "metadata": {
        "colab": {
          "base_uri": "https://localhost:8080/"
        },
        "id": "KwmXP8-ViTqD",
        "outputId": "f081418e-1d74-49aa-ba8c-16d37449b208"
      },
      "execution_count": 103,
      "outputs": [
        {
          "output_type": "stream",
          "name": "stdout",
          "text": [
            "Done!\n"
          ]
        }
      ]
    },
    {
      "cell_type": "code",
      "source": [
        "# train\n",
        "history_LSTM = model_LSTM.fit(tfidfv_5k_densed,\n",
        "                              y_train5k,\n",
        "                              epochs=epochs,\n",
        "                              validation_split=0.2,\n",
        "                              batch_size=batch_size,\n",
        "                              callbacks=es,\n",
        "                              verbose=1)"
      ],
      "metadata": {
        "colab": {
          "base_uri": "https://localhost:8080/"
        },
        "id": "ahbUuBngjntA",
        "outputId": "bcf1cb09-0cd4-452f-d06c-ce44a3176949"
      },
      "execution_count": 104,
      "outputs": [
        {
          "output_type": "stream",
          "name": "stdout",
          "text": [
            "Epoch 1/20\n",
            "113/113 [==============================] - 27s 227ms/step - loss: 2.6243 - accuracy: 0.3166 - val_loss: 2.4064 - val_accuracy: 0.3450\n",
            "Epoch 2/20\n",
            "113/113 [==============================] - 24s 213ms/step - loss: 2.4104 - accuracy: 0.3534 - val_loss: 2.4117 - val_accuracy: 0.3450\n",
            "Epoch 3/20\n",
            "113/113 [==============================] - 25s 218ms/step - loss: 2.4106 - accuracy: 0.3534 - val_loss: 2.4119 - val_accuracy: 0.3450\n",
            "Epoch 4/20\n",
            "113/113 [==============================] - 24s 215ms/step - loss: 2.4094 - accuracy: 0.3534 - val_loss: 2.4088 - val_accuracy: 0.3450\n",
            "Epoch 5/20\n",
            "113/113 [==============================] - 26s 227ms/step - loss: 2.4111 - accuracy: 0.3534 - val_loss: 2.4075 - val_accuracy: 0.3450\n",
            "Epoch 5: early stopping\n"
          ]
        }
      ]
    },
    {
      "cell_type": "markdown",
      "source": [
        "성능이 영 시원찮아 보입니다.\n",
        "\n",
        "아무래도 input으로 사용하는 데이터 수가 적어서 충분히 학습하지 못하는 것 같습니다.\n",
        "\n",
        "일단 한번 테스트해보겠습니다."
      ],
      "metadata": {
        "id": "NnU3MFh3lwEu"
      }
    },
    {
      "cell_type": "code",
      "source": [
        "tfidfv_5k_test_densed = tfidfv_5k_test.toarray()\n",
        "rnn_result = model_LSTM.evaluate(tfidfv_5k_test_densed, y_test5k, verbose=2)"
      ],
      "metadata": {
        "colab": {
          "base_uri": "https://localhost:8080/"
        },
        "id": "v3e4iPLjm4Dr",
        "outputId": "c3f4e7f7-1b9b-4fca-dc54-e5a0f9d614d7"
      },
      "execution_count": 105,
      "outputs": [
        {
          "output_type": "stream",
          "name": "stdout",
          "text": [
            "71/71 - 6s - loss: 2.4180 - accuracy: 0.3620 - 6s/epoch - 78ms/step\n"
          ]
        }
      ]
    },
    {
      "cell_type": "markdown",
      "source": [
        "모델의 정확도는 약 36.2%입니다."
      ],
      "metadata": {
        "id": "uBE2MyoInedK"
      }
    },
    {
      "cell_type": "markdown",
      "source": [
        "---"
      ],
      "metadata": {
        "id": "pT1ununGnzD6"
      }
    },
    {
      "cell_type": "markdown",
      "source": [
        "## **5-2. 모델 개선**\n",
        "\n",
        "layer 수를 늘리고 drop out을 걸어서 조금 더 개선해 보겠습니다."
      ],
      "metadata": {
        "id": "Ep53h_W-n0Oi"
      }
    },
    {
      "cell_type": "code",
      "source": [
        "# more layers\n",
        "# use drop out\n",
        "\n",
        "model_LSTM2 = keras.Sequential()\n",
        "model_LSTM2.add(keras.layers.Dense(128, activation='relu', input_shape=(tfidfv_5k_densed.shape[1],)))\n",
        "model_LSTM2.add(keras.layers.Dropout(0.2))  \n",
        "model_LSTM2.add(keras.layers.Dense(128, activation='relu'))\n",
        "model_LSTM2.add(keras.layers.Dense(256, activation='relu')) \n",
        "model_LSTM2.add(keras.layers.Dense(512, activation='relu'))  \n",
        "model_LSTM2.add(keras.layers.Dense(num_classes, activation='softmax'))\n",
        "\n",
        "model_LSTM2.summary()"
      ],
      "metadata": {
        "colab": {
          "base_uri": "https://localhost:8080/"
        },
        "id": "Ifsjbnryn2ZC",
        "outputId": "ad5fe141-77fe-494e-8ffc-0c39135fb224"
      },
      "execution_count": 109,
      "outputs": [
        {
          "output_type": "stream",
          "name": "stdout",
          "text": [
            "Model: \"sequential_8\"\n",
            "_________________________________________________________________\n",
            " Layer (type)                Output Shape              Param #   \n",
            "=================================================================\n",
            " dense_15 (Dense)            (None, 128)               623104    \n",
            "                                                                 \n",
            " dropout_2 (Dropout)         (None, 128)               0         \n",
            "                                                                 \n",
            " dense_16 (Dense)            (None, 128)               16512     \n",
            "                                                                 \n",
            " dense_17 (Dense)            (None, 256)               33024     \n",
            "                                                                 \n",
            " dense_18 (Dense)            (None, 512)               131584    \n",
            "                                                                 \n",
            " dense_19 (Dense)            (None, 46)                23598     \n",
            "                                                                 \n",
            "=================================================================\n",
            "Total params: 827,822\n",
            "Trainable params: 827,822\n",
            "Non-trainable params: 0\n",
            "_________________________________________________________________\n"
          ]
        }
      ]
    },
    {
      "cell_type": "code",
      "source": [
        "model_LSTM2.compile(optimizer='adam',\n",
        "                    loss='sparse_categorical_crossentropy',\n",
        "                    metrics=['accuracy'])"
      ],
      "metadata": {
        "id": "agzQNyT_pf-b"
      },
      "execution_count": 110,
      "outputs": []
    },
    {
      "cell_type": "code",
      "source": [
        "history_LSTM2 = model_LSTM2.fit(tfidfv_5k_densed,\n",
        "                               y_train5k,\n",
        "                               epochs=epochs,\n",
        "                               validation_split=0.2,\n",
        "                               batch_size=batch_size,\n",
        "                               callbacks=es,\n",
        "                               verbose=1)"
      ],
      "metadata": {
        "colab": {
          "base_uri": "https://localhost:8080/"
        },
        "id": "urrgINK4qRAG",
        "outputId": "7762a89d-a619-4748-dde9-473bceb4c3d8"
      },
      "execution_count": 111,
      "outputs": [
        {
          "output_type": "stream",
          "name": "stdout",
          "text": [
            "Epoch 1/20\n",
            "113/113 [==============================] - 1s 5ms/step - loss: 1.9574 - accuracy: 0.5079 - val_loss: 1.3869 - val_accuracy: 0.6784\n",
            "Epoch 2/20\n",
            "113/113 [==============================] - 0s 4ms/step - loss: 1.1091 - accuracy: 0.7240 - val_loss: 1.0623 - val_accuracy: 0.7551\n",
            "Epoch 3/20\n",
            "113/113 [==============================] - 0s 4ms/step - loss: 0.7200 - accuracy: 0.8189 - val_loss: 0.9911 - val_accuracy: 0.7780\n",
            "Epoch 4/20\n",
            "113/113 [==============================] - 0s 4ms/step - loss: 0.4932 - accuracy: 0.8697 - val_loss: 1.0365 - val_accuracy: 0.7707\n",
            "Epoch 5/20\n",
            "113/113 [==============================] - 0s 4ms/step - loss: 0.3504 - accuracy: 0.9038 - val_loss: 1.1099 - val_accuracy: 0.7741\n",
            "Epoch 6/20\n",
            "113/113 [==============================] - 0s 4ms/step - loss: 0.2717 - accuracy: 0.9272 - val_loss: 1.1311 - val_accuracy: 0.7902\n",
            "Epoch 7/20\n",
            "113/113 [==============================] - 0s 4ms/step - loss: 0.2133 - accuracy: 0.9393 - val_loss: 1.1592 - val_accuracy: 0.7813\n",
            "Epoch 7: early stopping\n"
          ]
        }
      ]
    },
    {
      "cell_type": "code",
      "source": [
        "# test\n",
        "rnn_result2 = model_LSTM2.evaluate(tfidfv_5k_test_densed, y_test5k, verbose=2)"
      ],
      "metadata": {
        "colab": {
          "base_uri": "https://localhost:8080/"
        },
        "id": "xW0MYBDSqdZF",
        "outputId": "b6966fd7-815f-4d16-afa5-bedba23e35e3"
      },
      "execution_count": 112,
      "outputs": [
        {
          "output_type": "stream",
          "name": "stdout",
          "text": [
            "71/71 - 0s - loss: 1.2215 - accuracy: 0.7760 - 162ms/epoch - 2ms/step\n"
          ]
        }
      ]
    },
    {
      "cell_type": "markdown",
      "source": [
        "정확도가 기존보다 2배 넘게 상승했습니다.\n",
        "\n",
        "한번 F1 score도 살펴보겠습니다."
      ],
      "metadata": {
        "id": "I-4HYPvcqiXV"
      }
    },
    {
      "cell_type": "code",
      "source": [
        "print(classification_report(y_test5k, model_LSTM2.predict(tfidfv_5k_test_densed).argmax(axis=1)))"
      ],
      "metadata": {
        "colab": {
          "base_uri": "https://localhost:8080/"
        },
        "id": "TmBceDap19mH",
        "outputId": "77e80531-cd34-4f86-f897-01ddadece819"
      },
      "execution_count": 115,
      "outputs": [
        {
          "output_type": "stream",
          "name": "stdout",
          "text": [
            "              precision    recall  f1-score   support\n",
            "\n",
            "           0       0.38      0.67      0.48        12\n",
            "           1       0.73      0.70      0.72       105\n",
            "           2       0.43      0.65      0.52        20\n",
            "           3       0.93      0.92      0.93       813\n",
            "           4       0.83      0.88      0.85       474\n",
            "           5       0.09      0.20      0.13         5\n",
            "           6       0.69      0.79      0.73        14\n",
            "           7       1.00      0.33      0.50         3\n",
            "           8       0.49      0.66      0.56        38\n",
            "           9       0.66      0.76      0.70        25\n",
            "          10       0.92      0.73      0.81        30\n",
            "          11       0.62      0.70      0.66        83\n",
            "          12       0.33      0.15      0.21        13\n",
            "          13       0.62      0.65      0.63        37\n",
            "          14       0.25      0.50      0.33         2\n",
            "          15       0.33      0.11      0.17         9\n",
            "          16       0.68      0.74      0.71        99\n",
            "          17       0.41      0.58      0.48        12\n",
            "          18       0.55      0.60      0.57        20\n",
            "          19       0.64      0.71      0.68       133\n",
            "          20       0.71      0.39      0.50        70\n",
            "          21       0.71      0.74      0.73        27\n",
            "          22       0.00      0.00      0.00         7\n",
            "          23       0.38      0.25      0.30        12\n",
            "          24       0.47      0.47      0.47        19\n",
            "          25       0.84      0.52      0.64        31\n",
            "          26       0.46      0.75      0.57         8\n",
            "          27       1.00      0.50      0.67         4\n",
            "          28       0.38      0.30      0.33        10\n",
            "          29       0.00      0.00      0.00         4\n",
            "          30       0.67      0.17      0.27        12\n",
            "          31       0.57      0.31      0.40        13\n",
            "          32       1.00      0.70      0.82        10\n",
            "          33       0.80      0.80      0.80         5\n",
            "          34       0.50      0.43      0.46         7\n",
            "          35       0.67      0.33      0.44         6\n",
            "          36       0.64      0.64      0.64        11\n",
            "          37       0.25      0.50      0.33         2\n",
            "          38       0.00      0.00      0.00         3\n",
            "          39       0.00      0.00      0.00         5\n",
            "          40       0.50      0.50      0.50        10\n",
            "          41       0.33      0.38      0.35         8\n",
            "          42       0.00      0.00      0.00         3\n",
            "          43       0.50      0.33      0.40         6\n",
            "          44       0.80      0.80      0.80         5\n",
            "          45       0.00      0.00      0.00         1\n",
            "\n",
            "    accuracy                           0.78      2246\n",
            "   macro avg       0.52      0.47      0.47      2246\n",
            "weighted avg       0.78      0.78      0.77      2246\n",
            "\n"
          ]
        },
        {
          "output_type": "stream",
          "name": "stderr",
          "text": [
            "/usr/local/lib/python3.7/dist-packages/sklearn/metrics/_classification.py:1318: UndefinedMetricWarning: Precision and F-score are ill-defined and being set to 0.0 in labels with no predicted samples. Use `zero_division` parameter to control this behavior.\n",
            "  _warn_prf(average, modifier, msg_start, len(result))\n",
            "/usr/local/lib/python3.7/dist-packages/sklearn/metrics/_classification.py:1318: UndefinedMetricWarning: Precision and F-score are ill-defined and being set to 0.0 in labels with no predicted samples. Use `zero_division` parameter to control this behavior.\n",
            "  _warn_prf(average, modifier, msg_start, len(result))\n",
            "/usr/local/lib/python3.7/dist-packages/sklearn/metrics/_classification.py:1318: UndefinedMetricWarning: Precision and F-score are ill-defined and being set to 0.0 in labels with no predicted samples. Use `zero_division` parameter to control this behavior.\n",
            "  _warn_prf(average, modifier, msg_start, len(result))\n"
          ]
        }
      ]
    },
    {
      "cell_type": "markdown",
      "source": [
        "딥러닝 모델의 최종 정확도는 **77.6%** 입니다."
      ],
      "metadata": {
        "id": "hxNJwgQT2y_T"
      }
    },
    {
      "cell_type": "markdown",
      "source": [
        "# **06. 회고**\n",
        "\n",
        "- 머신러닝 모델은 딥러닝 모델에 비해 상대적으로 robust하다는 것을 볼 수 있었습니다. 실제로 딥러닝 모델의 초기 훈련 결과 약 36%의 정확도를 보였지만, 머신러닝 모델의 경우 별다른 튜닝 없는 디폴트 상태로 사용했을 때에도 최소 59%의 성능을 보여주었습니다.\n",
        "\n",
        "- 대신 딥러닝 모델은 설계에 따라 정확도가 급상승한다는 장점이 있습니다. 또한 머신러닝 모델보다 훨씬 세밀하게 모델을 조절할 수 있습니다. 머신러닝 모델의 경우 하이퍼파라미터 튜닝에 따른 성능 변화가 드라마틱할 정도로 크지는 않습니다. 따라서 정확도가 매우 중요한 분야(의료, 금융, 반도체 공정 등)에서는 머신러닝 모델보다 잘 설계된 딥러닝 모델을 사용하는 것이 더 좋다고 판단할 수 있습니다."
      ],
      "metadata": {
        "id": "6lOZ9x4Yylsh"
      }
    }
  ]
}
