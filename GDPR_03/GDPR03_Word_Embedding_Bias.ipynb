{
  "nbformat": 4,
  "nbformat_minor": 0,
  "metadata": {
    "colab": {
      "name": "GDPR03_Word_Embedding_Bias.ipynb",
      "provenance": [],
      "collapsed_sections": [],
      "toc_visible": true
    },
    "kernelspec": {
      "name": "python3",
      "display_name": "Python 3"
    },
    "language_info": {
      "name": "python"
    },
    "accelerator": "GPU",
    "gpuClass": "standard"
  },
  "cells": [
    {
      "cell_type": "markdown",
      "source": [
        "# **GD06. WEAT를 활용하여 임베딩 내 편향성 알아보기**"
      ],
      "metadata": {
        "id": "UaC6qH0u-TSx"
      }
    },
    {
      "cell_type": "markdown",
      "source": [
        "**INDEX**\n",
        "\n",
        "00. 사용할 모듈 가져오기\n",
        "\n",
        "01. 데이터 가져오기\n",
        "\n",
        "02. Embedding Model 생성\n",
        "\n",
        "03. target, attribute 단어 set 생성\n",
        "\n",
        "04. WEAT score 구하기\n",
        "\n",
        "05. 회고"
      ],
      "metadata": {
        "id": "axG-Xju2_Dlb"
      }
    },
    {
      "cell_type": "markdown",
      "source": [
        "---"
      ],
      "metadata": {
        "id": "6Yn4EDKL_H_P"
      }
    },
    {
      "cell_type": "markdown",
      "source": [
        "## **00. 사용할 모듈 가져오기**"
      ],
      "metadata": {
        "id": "e25Wpp0i_WXg"
      }
    },
    {
      "cell_type": "code",
      "source": [
        "# pip install konlpy"
      ],
      "metadata": {
        "id": "HRfI7K4uAIeY"
      },
      "execution_count": 3,
      "outputs": []
    },
    {
      "cell_type": "code",
      "source": [
        "import numpy as np\n",
        "import pandas as pd\n",
        "import tensorflow as tf\n",
        "\n",
        "import konlpy\n",
        "import gensim\n",
        "import sklearn\n",
        "import seaborn as sns\n",
        "import matplotlib.pyplot as plt\n",
        "\n",
        "import gzip\n",
        "import os\n",
        "from gensim.models import KeyedVectors\n",
        "from konlpy.tag import Okt\n",
        "from gensim.models import Word2Vec\n",
        "from sklearn.feature_extraction.text import TfidfVectorizer\n",
        "\n",
        "print(konlpy.__version__)\n",
        "print(gensim.__version__)\n",
        "print(sklearn.__version__)\n",
        "print(sns.__version__)"
      ],
      "metadata": {
        "colab": {
          "base_uri": "https://localhost:8080/"
        },
        "id": "mUbXrziy_ZNw",
        "outputId": "fc5fed69-61c6-48d1-8f47-7b950882020b"
      },
      "execution_count": 4,
      "outputs": [
        {
          "output_type": "stream",
          "name": "stdout",
          "text": [
            "0.6.0\n",
            "3.6.0\n",
            "1.0.2\n",
            "0.11.2\n"
          ]
        }
      ]
    },
    {
      "cell_type": "code",
      "source": [
        "from google.colab import drive\n",
        "drive.mount('/content/mydrive')"
      ],
      "metadata": {
        "colab": {
          "base_uri": "https://localhost:8080/"
        },
        "id": "fI_6mrUC_kXn",
        "outputId": "25d0ef28-b1ef-4c73-ee86-a3da993dc5c5"
      },
      "execution_count": 5,
      "outputs": [
        {
          "output_type": "stream",
          "name": "stdout",
          "text": [
            "Drive already mounted at /content/mydrive; to attempt to forcibly remount, call drive.mount(\"/content/mydrive\", force_remount=True).\n"
          ]
        }
      ]
    },
    {
      "cell_type": "markdown",
      "source": [
        "## **01. 데이터 가져오기**"
      ],
      "metadata": {
        "id": "JT7vg4dP_gHJ"
      }
    },
    {
      "cell_type": "code",
      "source": [
        "data_path = '/content/mydrive/MyDrive/AIFFEL/GoingDeeper/GD05_06/unzip_data/synopsis.txt'\n",
        "\n",
        "print(\"Done!\")"
      ],
      "metadata": {
        "id": "YehtXM67EPms",
        "colab": {
          "base_uri": "https://localhost:8080/"
        },
        "outputId": "1a051260-57d5-4f29-89d1-8f58ec9eac92"
      },
      "execution_count": 6,
      "outputs": [
        {
          "output_type": "stream",
          "name": "stdout",
          "text": [
            "Done!\n"
          ]
        }
      ]
    },
    {
      "cell_type": "code",
      "source": [
        "# 읽어오는 과정에서 명사만 추출하는 함수 생성\n",
        "tokenized = []\n",
        "okt = Okt()\n",
        "def loader_get_nouns(data_path):\n",
        "    with open(data_path, 'r') as f:\n",
        "        while True:\n",
        "            line = f.readline()\n",
        "            if not line: break\n",
        "            words = okt.pos(line, stem=True, norm=True)\n",
        "            res = []\n",
        "            for w in words:\n",
        "                if w[1] in ['Noun']:\n",
        "                    res.append(w[0])\n",
        "            tokenized.append(res)\n",
        "    return tokenized\n",
        "\n",
        "print(\"Done!\")"
      ],
      "metadata": {
        "id": "cfvKGkacFLqX",
        "colab": {
          "base_uri": "https://localhost:8080/"
        },
        "outputId": "df8759ad-1afb-41bf-f007-21c44c5fc7e0"
      },
      "execution_count": 7,
      "outputs": [
        {
          "output_type": "stream",
          "name": "stdout",
          "text": [
            "Done!\n"
          ]
        }
      ]
    },
    {
      "cell_type": "code",
      "source": [
        "nouns = loader_get_nouns(data_path)"
      ],
      "metadata": {
        "id": "klGx4uAZevc-"
      },
      "execution_count": 8,
      "outputs": []
    },
    {
      "cell_type": "markdown",
      "source": [
        "---"
      ],
      "metadata": {
        "id": "SKd5UdETNDyV"
      }
    },
    {
      "cell_type": "markdown",
      "source": [
        "## **02. Embedding Model 생성**"
      ],
      "metadata": {
        "id": "-QPVa5GMwp4E"
      }
    },
    {
      "cell_type": "code",
      "source": [
        "## gensim 4.0 기준\n",
        "# model = Word2Vec(tokenized, vector_size=100, window=5, min_count=3, sg=0)  \n",
        "# model.wv.most_similar(positive=['영화'])\n",
        "\n",
        "## gensim 3.X \n",
        "model = Word2Vec(tokenized, size=100, window=5, min_count=3, sg=0)  \n",
        "model.most_similar(positive=['영화'])"
      ],
      "metadata": {
        "id": "tZ1B8m4Vwtd8",
        "colab": {
          "base_uri": "https://localhost:8080/"
        },
        "outputId": "bdc32669-e6af-40f5-a8f4-18bc9fba1550"
      },
      "execution_count": 9,
      "outputs": [
        {
          "output_type": "stream",
          "name": "stderr",
          "text": [
            "/usr/local/lib/python3.7/dist-packages/ipykernel_launcher.py:7: DeprecationWarning: Call to deprecated `most_similar` (Method will be removed in 4.0.0, use self.wv.most_similar() instead).\n",
            "  import sys\n"
          ]
        },
        {
          "output_type": "execute_result",
          "data": {
            "text/plain": [
              "[('작품', 0.9012084007263184),\n",
              " ('다큐멘터리', 0.8576816320419312),\n",
              " ('드라마', 0.8415915966033936),\n",
              " ('형식', 0.8280462026596069),\n",
              " ('영화로', 0.8252614736557007),\n",
              " ('감동', 0.815281867980957),\n",
              " ('스토리', 0.8084328770637512),\n",
              " ('코미디', 0.8040423393249512),\n",
              " ('소재', 0.7932438850402832),\n",
              " ('주제', 0.790687084197998)]"
            ]
          },
          "metadata": {},
          "execution_count": 9
        }
      ]
    },
    {
      "cell_type": "code",
      "source": [
        "# test\n",
        "model.wv.most_similar(positive=['사랑'])"
      ],
      "metadata": {
        "id": "fz_nJiUFw9kK",
        "colab": {
          "base_uri": "https://localhost:8080/"
        },
        "outputId": "69e040a3-7895-4310-c85f-733178e94351"
      },
      "execution_count": 10,
      "outputs": [
        {
          "output_type": "execute_result",
          "data": {
            "text/plain": [
              "[('정일', 0.7350336313247681),\n",
              " ('애정', 0.7341237664222717),\n",
              " ('우정', 0.7279262542724609),\n",
              " ('만남', 0.7229673266410828),\n",
              " ('행복', 0.7212333679199219),\n",
              " ('진심', 0.7121315002441406),\n",
              " ('시빌라', 0.7015416622161865),\n",
              " ('고백', 0.701117992401123),\n",
              " ('운명', 0.6987417340278625),\n",
              " ('연애', 0.6966538429260254)]"
            ]
          },
          "metadata": {},
          "execution_count": 10
        }
      ]
    },
    {
      "cell_type": "code",
      "source": [
        "# test\n",
        "model.wv.most_similar(positive=['연극'])"
      ],
      "metadata": {
        "id": "4J6P_iKSxAFO",
        "colab": {
          "base_uri": "https://localhost:8080/"
        },
        "outputId": "f159bdc7-add2-4c73-d1ac-d8a92da528a5"
      },
      "execution_count": 11,
      "outputs": [
        {
          "output_type": "execute_result",
          "data": {
            "text/plain": [
              "[('영화감독', 0.9023271203041077),\n",
              " ('뮤지컬영화', 0.8952600955963135),\n",
              " ('영감', 0.892842710018158),\n",
              " ('오페라', 0.8916624188423157),\n",
              " ('데뷔', 0.8881603479385376),\n",
              " ('시나리오', 0.8829681873321533),\n",
              " ('캐스팅', 0.880712628364563),\n",
              " ('배우', 0.8797051906585693),\n",
              " ('각색', 0.8779683113098145),\n",
              " ('예술가', 0.8768812417984009)]"
            ]
          },
          "metadata": {},
          "execution_count": 11
        }
      ]
    },
    {
      "cell_type": "markdown",
      "source": [
        "어느 정도 납득할만한 결과가 나온 것 같습니다."
      ],
      "metadata": {
        "id": "Onl9XGyAQ-5f"
      }
    },
    {
      "cell_type": "markdown",
      "source": [
        "---"
      ],
      "metadata": {
        "id": "j7fDjN0zReJp"
      }
    },
    {
      "cell_type": "markdown",
      "source": [
        "## **03. target, attribute 단어set 생성**"
      ],
      "metadata": {
        "id": "i8Wxac4GRkcc"
      }
    },
    {
      "cell_type": "code",
      "source": [
        "# target\n",
        "art_txt = 'synopsis_art.txt'\n",
        "gen_txt = 'synopsis_gen.txt'\n",
        "\n",
        "def read_token(file_path, file_name):\n",
        "    okt = Okt()\n",
        "    result = []\n",
        "    with open(file_path+file_name, 'r') as fread: \n",
        "        print('파일을 읽고 있습니다.')\n",
        "        while True:\n",
        "            line = fread.readline() \n",
        "            if not line: break \n",
        "            tokenlist = okt.pos(line, stem=True, norm=True) \n",
        "            for word in tokenlist:\n",
        "                if word[1] in [\"Noun\"]:#, \"Adjective\", \"Verb\"]:\n",
        "                    result.append((word[0])) \n",
        "    return ' '.join(result)\n",
        "\n",
        "print(\"Done!\")"
      ],
      "metadata": {
        "colab": {
          "base_uri": "https://localhost:8080/"
        },
        "id": "tLjK_3jdRpLj",
        "outputId": "fe7d49d1-3891-4302-beb2-0d9ec62afda4"
      },
      "execution_count": 12,
      "outputs": [
        {
          "output_type": "stream",
          "name": "stdout",
          "text": [
            "Done!\n"
          ]
        }
      ]
    },
    {
      "cell_type": "code",
      "source": [
        "file_path = '/content/mydrive/MyDrive/AIFFEL/GoingDeeper/GD05_06/unzip_data/'\n",
        "\n",
        "art = read_token(file_path, art_txt)\n",
        "gen = read_token(file_path, gen_txt)"
      ],
      "metadata": {
        "colab": {
          "base_uri": "https://localhost:8080/"
        },
        "id": "Kl6EOuqfSPNW",
        "outputId": "e2e896e5-7d8c-43e2-ff6b-e96497bcd0c0"
      },
      "execution_count": 13,
      "outputs": [
        {
          "output_type": "stream",
          "name": "stdout",
          "text": [
            "파일을 읽고 있습니다.\n",
            "파일을 읽고 있습니다.\n"
          ]
        }
      ]
    },
    {
      "cell_type": "code",
      "source": [
        "# TF-IDF\n",
        "vectorizer = TfidfVectorizer()\n",
        "X = vectorizer.fit_transform([art, gen])\n",
        "\n",
        "print(X.shape)"
      ],
      "metadata": {
        "colab": {
          "base_uri": "https://localhost:8080/"
        },
        "id": "hrmwrcCESdq8",
        "outputId": "be955e7d-bcf9-4ccc-ec74-7a19807faaf4"
      },
      "execution_count": 14,
      "outputs": [
        {
          "output_type": "stream",
          "name": "stdout",
          "text": [
            "(2, 41082)\n"
          ]
        }
      ]
    },
    {
      "cell_type": "code",
      "source": [
        "m1 = X[0].tocoo()   # art를 TF-IDF로 표현한 sparse matrix를 가져옵니다. \n",
        "m2 = X[1].tocoo()   # gen을 TF-IDF로 표현한 sparse matrix를 가져옵니다. \n",
        "\n",
        "w1 = [[i, j] for i, j in zip(m1.col, m1.data)]\n",
        "w2 = [[i, j] for i, j in zip(m2.col, m2.data)]\n",
        "\n",
        "w1.sort(key=lambda x: x[1], reverse=True)   #art를 구성하는 단어들을 TF-IDF가 높은 순으로 정렬합니다. \n",
        "w2.sort(key=lambda x: x[1], reverse=True)   #gen을 구성하는 단어들을 TF-IDF가 높은 순으로 정렬합니다. \n",
        "\n",
        "print('예술영화를 대표하는 단어들:')\n",
        "for i in range(100):\n",
        "    print(vectorizer.get_feature_names()[w1[i][0]], end=', ')\n",
        "\n",
        "print('\\n')\n",
        "    \n",
        "print('일반영화를 대표하는 단어들:')\n",
        "for i in range(100):\n",
        "    print(vectorizer.get_feature_names()[w2[i][0]], end=', ')"
      ],
      "metadata": {
        "colab": {
          "base_uri": "https://localhost:8080/"
        },
        "id": "iK9NfwBmqISQ",
        "outputId": "c0845c6a-dc02-4d69-802b-a7a0b3da00da"
      },
      "execution_count": 15,
      "outputs": [
        {
          "output_type": "stream",
          "name": "stdout",
          "text": [
            "예술영화를 대표하는 단어들:\n",
            "그녀, 자신, 시작, 위해, 사랑, 사람, 영화, 친구, "
          ]
        },
        {
          "output_type": "stream",
          "name": "stderr",
          "text": [
            "/usr/local/lib/python3.7/dist-packages/sklearn/utils/deprecation.py:87: FutureWarning: Function get_feature_names is deprecated; get_feature_names is deprecated in 1.0 and will be removed in 1.2. Please use get_feature_names_out instead.\n",
            "  warnings.warn(msg, category=FutureWarning)\n"
          ]
        },
        {
          "output_type": "stream",
          "name": "stdout",
          "text": [
            "남자, 가족, 이야기, 마을, 사건, 마음, 세상, 아버지, 아이, 엄마, 모든, 여자, 대한, 서로, 과연, 다시, 시간, 아들, 소녀, 아내, 다른, 사이, 영화제, 세계, 사실, 하나, 점점, 남편, 감독, 여행, 인생, 발견, 모두, 순간, 우리, 가장, 마지막, 생활, 아빠, 모습, 통해, 죽음, 기억, 비밀, 학교, 음악, 한편, 소년, 생각, 도시, 명의, 사고, 결혼, 전쟁, 때문, 위기, 이제, 최고, 이자, 과거, 일상, 경찰, 상황, 간다, 미국, 결심, 운명, 현실, 관계, 지금, 단편, 여인, 하루, 이름, 이후, 준비, 인간, 감정, 만난, 국제, 처음, 충격, 살인, 누구, 동안, 존재, 그린, 어머니, 연인, 계속, 동생, 작품, \n",
            "\n",
            "일반영화를 대표하는 단어들:\n",
            "자신, 그녀, 영화제, 위해, 사람, 시작, 국제, 영화, 친구, 사랑, 남자, 이야기, 대한, 서울, 여자, 사건, 남편, 아이, 가족, 아버지, 다른, 마을, 시간, 엄마, 아들, 모든, 단편, 마음, 사실, 다시, 세계, 모습, 작품, 통해, 생각, 서로, 세상, 발견, 감독, 아내, 관계, 소녀, 사이, 하나, 우리, 애니메이션, 때문, 여성, 죽음, 과연, 점점, 인간, 생활, 한편, 결혼, 상황, 모두, 기억, 명의, 소년, 여행, 가장, 간다, 순간, 이제, 도시, 비밀, 학교, 과거, 가지, 이자, 경찰, 마지막, 미국, 동안, 전쟁, 주인공, 대해, 존재, 현실, 연출, 사고, 살인, 일상, 어머니, 계속, 사회, 인생, 다큐멘터리, 부문, 섹스, 최고, 바로, 동생, 의도, 하루, 위기, 계획, 정체, 한국, "
          ]
        }
      ]
    },
    {
      "cell_type": "markdown",
      "source": [
        "겹치는 단어가 많습니다. 제거해줍니다."
      ],
      "metadata": {
        "id": "-vmDWYnoqKQL"
      }
    },
    {
      "cell_type": "code",
      "source": [
        "n = 30\n",
        "w1_, w2_ = [], []\n",
        "for i in range(100):\n",
        "    w1_.append(vectorizer.get_feature_names()[w1[i][0]])\n",
        "    w2_.append(vectorizer.get_feature_names()[w2[i][0]])\n",
        "\n",
        "# w1에만 있고 w2에는 없는, 예술영화를 잘 대표하는 단어를 30개 추출한다.\n",
        "target_art, target_gen = [], []\n",
        "for i in range(100):\n",
        "    if (w1_[i] not in w2_) and (w1_[i] in model.wv): target_art.append(w1_[i])\n",
        "    if len(target_art) == n: break \n",
        "\n",
        "# w2에만 있고 w1에는 없는, 일반영화를 잘 대표하는 단어를 30개 추출한다.\n",
        "for i in range(100):\n",
        "    if (w2_[i] not in w1_) and (w2_[i] in model.wv): target_gen.append(w2_[i])\n",
        "    if len(target_gen) == n: break"
      ],
      "metadata": {
        "colab": {
          "base_uri": "https://localhost:8080/"
        },
        "id": "W-S3IvNqqU1V",
        "outputId": "17eb4d42-3284-4327-9d91-37713cc80b5a"
      },
      "execution_count": 16,
      "outputs": [
        {
          "output_type": "stream",
          "name": "stderr",
          "text": [
            "/usr/local/lib/python3.7/dist-packages/sklearn/utils/deprecation.py:87: FutureWarning: Function get_feature_names is deprecated; get_feature_names is deprecated in 1.0 and will be removed in 1.2. Please use get_feature_names_out instead.\n",
            "  warnings.warn(msg, category=FutureWarning)\n"
          ]
        }
      ]
    },
    {
      "cell_type": "code",
      "source": [
        "print(target_art)"
      ],
      "metadata": {
        "colab": {
          "base_uri": "https://localhost:8080/"
        },
        "id": "sdYSCbWvqX3F",
        "outputId": "1f525cd7-7364-4851-9184-6624c0cff88b"
      },
      "execution_count": 17,
      "outputs": [
        {
          "output_type": "stream",
          "name": "stdout",
          "text": [
            "['아빠', '음악', '결심', '운명', '지금', '여인', '이름', '이후', '준비', '감정', '만난', '처음', '충격', '누구', '그린', '연인']\n"
          ]
        }
      ]
    },
    {
      "cell_type": "code",
      "source": [
        "print(target_gen)"
      ],
      "metadata": {
        "colab": {
          "base_uri": "https://localhost:8080/"
        },
        "id": "KWu9SESuqaDe",
        "outputId": "a5720a21-83d5-4a95-d94a-acf35dba0987"
      },
      "execution_count": 18,
      "outputs": [
        {
          "output_type": "stream",
          "name": "stdout",
          "text": [
            "['서울', '애니메이션', '여성', '가지', '주인공', '대해', '연출', '사회', '다큐멘터리', '부문', '섹스', '바로', '의도', '계획', '정체', '한국']\n"
          ]
        }
      ]
    },
    {
      "cell_type": "code",
      "source": [
        "genre_txt = ['synopsis_SF.txt', 'synopsis_family.txt', 'synopsis_show.txt', 'synopsis_horror.txt', 'synopsis_etc.txt', \n",
        "             'synopsis_documentary.txt', 'synopsis_drama.txt', 'synopsis_romance.txt', 'synopsis_musical.txt', \n",
        "             'synopsis_mystery.txt', 'synopsis_crime.txt', 'synopsis_historical.txt', 'synopsis_western.txt', \n",
        "             'synopsis_adult.txt', 'synopsis_thriller.txt', 'synopsis_animation.txt', 'synopsis_action.txt', \n",
        "             'synopsis_adventure.txt', 'synopsis_war.txt', 'synopsis_comedy.txt', 'synopsis_fantasy.txt']\n",
        "genre_name = ['SF', '가족', '공연', '공포(호러)', '기타', '다큐멘터리', '드라마', '멜로로맨스', '뮤지컬', '미스터리', '범죄', '사극', '서부극(웨스턴)',\n",
        "         '성인물(에로)', '스릴러', '애니메이션', '액션', '어드벤처', '전쟁', '코미디', '판타지']\n",
        "\n",
        "print(\"Done!\")"
      ],
      "metadata": {
        "colab": {
          "base_uri": "https://localhost:8080/"
        },
        "id": "fTl0DNTRqb20",
        "outputId": "54c6aebd-5f2b-45d6-917c-f107cfe87d1e"
      },
      "execution_count": 19,
      "outputs": [
        {
          "output_type": "stream",
          "name": "stdout",
          "text": [
            "Done!\n"
          ]
        }
      ]
    },
    {
      "cell_type": "code",
      "source": [
        "genre = []\n",
        "for file_name in genre_txt:\n",
        "    genre.append(read_token(file_path, file_name))"
      ],
      "metadata": {
        "colab": {
          "base_uri": "https://localhost:8080/"
        },
        "id": "NTW6LWtzql-K",
        "outputId": "642b8733-a732-4644-eb99-87cd0a4afdf7"
      },
      "execution_count": 20,
      "outputs": [
        {
          "output_type": "stream",
          "name": "stdout",
          "text": [
            "파일을 읽고 있습니다.\n",
            "파일을 읽고 있습니다.\n",
            "파일을 읽고 있습니다.\n",
            "파일을 읽고 있습니다.\n",
            "파일을 읽고 있습니다.\n",
            "파일을 읽고 있습니다.\n",
            "파일을 읽고 있습니다.\n",
            "파일을 읽고 있습니다.\n",
            "파일을 읽고 있습니다.\n",
            "파일을 읽고 있습니다.\n",
            "파일을 읽고 있습니다.\n",
            "파일을 읽고 있습니다.\n",
            "파일을 읽고 있습니다.\n",
            "파일을 읽고 있습니다.\n",
            "파일을 읽고 있습니다.\n",
            "파일을 읽고 있습니다.\n",
            "파일을 읽고 있습니다.\n",
            "파일을 읽고 있습니다.\n",
            "파일을 읽고 있습니다.\n",
            "파일을 읽고 있습니다.\n",
            "파일을 읽고 있습니다.\n"
          ]
        }
      ]
    },
    {
      "cell_type": "code",
      "source": [
        "vectorizer = TfidfVectorizer()\n",
        "X = vectorizer.fit_transform(genre)\n",
        "\n",
        "print(X.shape)"
      ],
      "metadata": {
        "colab": {
          "base_uri": "https://localhost:8080/"
        },
        "id": "mD1sbISuq4zu",
        "outputId": "75b3b819-6c91-4c38-daf1-050b316523ca"
      },
      "execution_count": 21,
      "outputs": [
        {
          "output_type": "stream",
          "name": "stdout",
          "text": [
            "(21, 42191)\n"
          ]
        }
      ]
    },
    {
      "cell_type": "code",
      "source": [
        "# 각 장르별 단어 추출\n",
        "m = [X[i].tocoo() for i in range(X.shape[0])]\n",
        "\n",
        "w = [[[i, j] for i, j in zip(mm.col, mm.data)] for mm in m]\n",
        "\n",
        "for i in range(len(w)):\n",
        "    w[i].sort(key=lambda x: x[1], reverse=True)\n",
        "attributes = []\n",
        "for i in range(len(w)):\n",
        "    print(genre_name[i], end=': ')\n",
        "    attr = []\n",
        "    j = 0\n",
        "    while (len(attr) < 15):\n",
        "        if vectorizer.get_feature_names()[w[i][j][0]] in model.wv:\n",
        "            attr.append(vectorizer.get_feature_names()[w[i][j][0]])\n",
        "            print(vectorizer.get_feature_names()[w[i][j][0]], end=', ')\n",
        "        j += 1\n",
        "    attributes.append(attr)\n",
        "    print()"
      ],
      "metadata": {
        "colab": {
          "base_uri": "https://localhost:8080/"
        },
        "id": "7dqvPj51uqOZ",
        "outputId": "c9692cd0-fe97-4599-9956-02896f9b5458"
      },
      "execution_count": 22,
      "outputs": [
        {
          "output_type": "stream",
          "name": "stdout",
          "text": [
            "SF: 위해, 자신, 지구, "
          ]
        },
        {
          "output_type": "stream",
          "name": "stderr",
          "text": [
            "/usr/local/lib/python3.7/dist-packages/sklearn/utils/deprecation.py:87: FutureWarning: Function get_feature_names is deprecated; get_feature_names is deprecated in 1.0 and will be removed in 1.2. Please use get_feature_names_out instead.\n",
            "  warnings.warn(msg, category=FutureWarning)\n"
          ]
        },
        {
          "output_type": "stream",
          "name": "stdout",
          "text": [
            "시작, 사람, 인류, 인간, 미래, 우주, 그녀, 로봇, 세계, 모든, 박사, 우주선, \n",
            "가족: 엄마, 아빠, 가족, 영화제, 자신, 위해, 친구, 아주르, 아버지, 시작, 그녀, 아들, 마을, 국제, 낙타, \n",
            "공연: 오페라, 사랑, 토스카, 실황, 올레, 자신, 카바, 그녀, 공연, 오텔로, 리골레토, 백작, 프레, 베르디, 위해, \n",
            "공포(호러): 시작, 위해, 사람, 자신, 친구, 그녀, 사건, 공포, 발견, 죽음, 마을, 가족, 악령, 남자, 좀비, \n",
            "기타: 영화제, 국제, 서울, 단편, 영화, 자신, 사람, 이야기, 그녀, 남자, 위해, 시작, 사랑, 뉴미디어, 페스티벌, \n",
            "다큐멘터리: 영화제, 영화, 다큐, 국제, 다큐멘터리, 사람, 이야기, 대한, 자신, 감독, 위해, 서울, 우리, 시작, 세계, \n",
            "드라마: 자신, 영화제, 그녀, 사람, 사랑, 영화, 위해, 시작, 국제, 남자, 친구, 이야기, 엄마, 여자, 아버지, \n",
            "멜로로맨스: 그녀, 사랑, 자신, 시작, 남편, 남자, 여자, 사람, 친구, 섹스, 위해, 마음, 결혼, 서로, 아내, \n",
            "뮤지컬: 뮤지컬, 사랑, 에스메랄다, 그녀, 음악, 충무로, 모차르트, 영화, 토스카, 자신, 니웨, 카바, 영화제, 바흐, 페뷔스, \n",
            "미스터리: 사건, 그녀, 시작, 자신, 위해, 사람, 발견, 사고, 진실, 죽음, 기억, 살인, 친구, 아내, 남자, \n",
            "범죄: 사건, 위해, 자신, 경찰, 시작, 그녀, 범죄, 조직, 살인, 사람, 마약, 형사, 남자, 모든, 살해, \n",
            "사극: 조선, 위해, 시작, 신기전, 사랑, 자신, 아가멤논, 황제, 그녀, 루안, 최고, 운명, 사람, 하선, 전쟁, \n",
            "서부극(웨스턴): 서부, 보안관, 위해, 벌린, 카우보이, 그레이프바인, 헨리, 마을, 자신, 개릿, 아이, 시작, 무법자, 프린트, 마적, \n",
            "성인물(에로): 그녀, 남편, 마사지, 자신, 섹스, 관계, 영화, 정사, 남자, 위해, 시작, 여자, 유부녀, 마음, 사랑, \n",
            "스릴러: 자신, 그녀, 사건, 시작, 위해, 사람, 살인, 남자, 발견, 아내, 경찰, 친구, 모든, 사실, 살해, \n",
            "애니메이션: 애니메이션, 국제, 영화제, 친구, 인디애니페스트, 위해, 자신, 시작, 사람, 페스티벌, 서울, 이야기, 아이, 마을, 소녀, \n",
            "액션: 위해, 자신, 시작, 조직, 사건, 사람, 그녀, 경찰, 전쟁, 모든, 목숨, 사실, 친구, 가족, 요원, \n",
            "어드벤처: 위해, 자신, 시작, 친구, 마을, 아버지, 영화, 아이, 사람, 여행, 세계, 앤트, 세상, 가족, 모험, \n",
            "전쟁: 전쟁, 독일군, 전투, 위해, 작전, 시작, 부대, 윈터스, 독일, 연합군, 미군, 임무, 자신, 사람, 나치, \n",
            "코미디: 그녀, 자신, 시작, 위해, 사랑, 사람, 친구, 영화, 남자, 여자, 영화제, 가족, 과연, 마을, 사건, \n",
            "판타지: 자신, 그녀, 시작, 위해, 사람, 사랑, 요괴, 영화제, 이야기, 영화, 소녀, 남자, 인간, 세상, 마을, \n"
          ]
        }
      ]
    },
    {
      "cell_type": "markdown",
      "source": [
        "직관적으로 보았을 때 나름 납득할 수 있는 속성들로 이루어져 있습니다.\n",
        "\n",
        "코미디-판타지처럼 대표 단어가 유사한 케이스도 있지만, 곰곰이 생각해보면 실제로 판타지에서 요괴와 소녀를 빼고 친구와 가족을 더하면 코미디가 된다고도 볼 수 있습니다.\n",
        "\n",
        "또한 기본적으로 영화의 구성요소들(등장인물, 사건, 플롯)은 장르에 상관없이 어느 정도 겹치는 경향이 있습니다.\n",
        "\n",
        "따라서 별도의 추가적인 중복 제거 처리는 하지 않아도 될 것 같습니다."
      ],
      "metadata": {
        "id": "4MisazWnuuFv"
      }
    },
    {
      "cell_type": "markdown",
      "source": [
        "---"
      ],
      "metadata": {
        "id": "rRJ67fSf7BvG"
      }
    },
    {
      "cell_type": "markdown",
      "source": [
        "## **04. WEAT Score 구하기**"
      ],
      "metadata": {
        "id": "0ZplY8Hf7PJ7"
      }
    },
    {
      "cell_type": "code",
      "source": [
        "def cos_sim(i, j):\n",
        "    return np.dot(i, j.T)/(np.linalg.norm(i)*np.linalg.norm(j))\n",
        "\n",
        "def s(w, A, B):\n",
        "    c_a = cos_sim(w, A)\n",
        "    c_b = cos_sim(w, B)\n",
        "    mean_A = np.mean(c_a, axis=-1)\n",
        "    mean_B = np.mean(c_b, axis=-1)\n",
        "    return mean_A - mean_B #, c_a, c_b\n",
        "\n",
        "print(\"Done!\")"
      ],
      "metadata": {
        "colab": {
          "base_uri": "https://localhost:8080/"
        },
        "id": "aDVZUkn-7h93",
        "outputId": "8c60d564-a65f-43b0-dea0-3972e6eb8709"
      },
      "execution_count": 23,
      "outputs": [
        {
          "output_type": "stream",
          "name": "stdout",
          "text": [
            "Done!\n"
          ]
        }
      ]
    },
    {
      "cell_type": "code",
      "source": [
        "# weat scoring 함수 생성\n",
        "def weat_score(X, Y, A, B):\n",
        "    \n",
        "    s_X = s(X, A, B)\n",
        "    s_Y = s(Y, A, B)\n",
        "\n",
        "    mean_X = np.mean(s_X)\n",
        "    mean_Y = np.mean(s_Y)\n",
        "    \n",
        "    std_dev = np.std(np.concatenate([s_X, s_Y], axis=0))\n",
        "    \n",
        "    return  (mean_X-mean_Y)/std_dev\n",
        "\n",
        "print(\"Done!\")"
      ],
      "metadata": {
        "colab": {
          "base_uri": "https://localhost:8080/"
        },
        "id": "_mLAYOmh7e7_",
        "outputId": "95bce7c5-e30f-4561-8376-623d2af7c804"
      },
      "execution_count": 24,
      "outputs": [
        {
          "output_type": "stream",
          "name": "stdout",
          "text": [
            "Done!\n"
          ]
        }
      ]
    },
    {
      "cell_type": "code",
      "source": [
        "matrix = [[0 for _ in range(len(genre_name))] for _ in range(len(genre_name))]\n",
        "print(\"Done!\")"
      ],
      "metadata": {
        "colab": {
          "base_uri": "https://localhost:8080/"
        },
        "id": "rbPqxWOy7S8Y",
        "outputId": "ad3178e7-04ad-4adc-9e3d-c8d9343c499e"
      },
      "execution_count": 25,
      "outputs": [
        {
          "output_type": "stream",
          "name": "stdout",
          "text": [
            "Done!\n"
          ]
        }
      ]
    },
    {
      "cell_type": "code",
      "source": [
        "X = np.array([model.wv[word] for word in target_art])\n",
        "Y = np.array([model.wv[word] for word in target_gen])\n",
        "\n",
        "for i in range(len(genre_name)-1):\n",
        "    for j in range(i+1, len(genre_name)):\n",
        "        A = np.array([model.wv[word] for word in attributes[i]])\n",
        "        B = np.array([model.wv[word] for word in attributes[j]])\n",
        "        matrix[i][j] = weat_score(X, Y, A, B)\n",
        "\n",
        "print(\"Done!\")"
      ],
      "metadata": {
        "colab": {
          "base_uri": "https://localhost:8080/"
        },
        "id": "5GJ2eS_W7U2s",
        "outputId": "2f8500aa-adba-40c7-cc7c-24ac80269037"
      },
      "execution_count": 26,
      "outputs": [
        {
          "output_type": "stream",
          "name": "stdout",
          "text": [
            "Done!\n"
          ]
        }
      ]
    },
    {
      "cell_type": "code",
      "source": [
        "for i in range(len(genre_name)-1):\n",
        "    for j in range(i+1, len(genre_name)):\n",
        "        print(genre_name[i], genre_name[j],matrix[i][j])"
      ],
      "metadata": {
        "colab": {
          "base_uri": "https://localhost:8080/"
        },
        "id": "cbuC8eN67acR",
        "outputId": "bf651041-128d-4185-e277-810c8d10b9b0"
      },
      "execution_count": 27,
      "outputs": [
        {
          "output_type": "stream",
          "name": "stdout",
          "text": [
            "SF 가족 -0.53923637\n",
            "SF 공연 -0.39143968\n",
            "SF 공포(호러) -0.7984004\n",
            "SF 기타 0.3510243\n",
            "SF 다큐멘터리 0.6188335\n",
            "SF 드라마 -0.4424764\n",
            "SF 멜로로맨스 -0.8621722\n",
            "SF 뮤지컬 0.33163\n",
            "SF 미스터리 -0.7918762\n",
            "SF 범죄 -0.3925976\n",
            "SF 사극 -0.8441387\n",
            "SF 서부극(웨스턴) -0.4578087\n",
            "SF 성인물(에로) -0.673389\n",
            "SF 스릴러 -0.6415403\n",
            "SF 애니메이션 0.37153327\n",
            "SF 액션 -0.5824641\n",
            "SF 어드벤처 -0.79442644\n",
            "SF 전쟁 0.15495215\n",
            "SF 코미디 -0.547789\n",
            "SF 판타지 -0.23884903\n",
            "가족 공연 0.2134434\n",
            "가족 공포(호러) -0.2676027\n",
            "가족 기타 0.78387237\n",
            "가족 다큐멘터리 0.8679939\n",
            "가족 드라마 0.1832483\n",
            "가족 멜로로맨스 -0.7166728\n",
            "가족 뮤지컬 0.7270166\n",
            "가족 미스터리 -0.40657467\n",
            "가족 범죄 0.07000123\n",
            "가족 사극 -0.071920104\n",
            "가족 서부극(웨스턴) 0.43075472\n",
            "가족 성인물(에로) -0.43788862\n",
            "가족 스릴러 -0.25432786\n",
            "가족 애니메이션 0.90884745\n",
            "가족 액션 0.015871905\n",
            "가족 어드벤처 8.784196e-05\n",
            "가족 전쟁 0.6600043\n",
            "가족 코미디 0.12707825\n",
            "가족 판타지 0.4412425\n",
            "공연 공포(호러) -0.3376531\n",
            "공연 기타 0.9799069\n",
            "공연 다큐멘터리 0.9681901\n",
            "공연 드라마 -0.06724868\n",
            "공연 멜로로맨스 -0.79358745\n",
            "공연 뮤지컬 0.91881305\n",
            "공연 미스터리 -0.443925\n",
            "공연 범죄 -0.053004242\n",
            "공연 사극 -0.39127547\n",
            "공연 서부극(웨스턴) 0.018607665\n",
            "공연 성인물(에로) -0.6121965\n",
            "공연 스릴러 -0.31853595\n",
            "공연 애니메이션 0.9633822\n",
            "공연 액션 -0.11791669\n",
            "공연 어드벤처 -0.20765786\n",
            "공연 전쟁 0.5860106\n",
            "공연 코미디 -0.11020719\n",
            "공연 판타지 0.32163933\n",
            "공포(호러) 기타 0.7172163\n",
            "공포(호러) 다큐멘터리 0.81934774\n",
            "공포(호러) 드라마 0.38716793\n",
            "공포(호러) 멜로로맨스 -0.650941\n",
            "공포(호러) 뮤지컬 0.6807081\n",
            "공포(호러) 미스터리 -0.614543\n",
            "공포(호러) 범죄 0.55777305\n",
            "공포(호러) 사극 0.24845718\n",
            "공포(호러) 서부극(웨스턴) 0.51606745\n",
            "공포(호러) 성인물(에로) -0.27853802\n",
            "공포(호러) 스릴러 -0.09449022\n",
            "공포(호러) 애니메이션 0.7456467\n",
            "공포(호러) 액션 0.5846703\n",
            "공포(호러) 어드벤처 0.32280236\n",
            "공포(호러) 전쟁 0.7315601\n",
            "공포(호러) 코미디 0.48842043\n",
            "공포(호러) 판타지 0.6206146\n",
            "기타 다큐멘터리 0.6533749\n",
            "기타 드라마 -0.95615655\n",
            "기타 멜로로맨스 -0.96858835\n",
            "기타 뮤지컬 -0.07332464\n",
            "기타 미스터리 -0.7326433\n",
            "기타 범죄 -0.47727478\n",
            "기타 사극 -0.8947779\n",
            "기타 서부극(웨스턴) -0.66761935\n",
            "기타 성인물(에로) -0.9189164\n",
            "기타 스릴러 -0.6416152\n",
            "기타 애니메이션 -0.04389424\n",
            "기타 액션 -0.55316925\n",
            "기타 어드벤처 -0.8406557\n",
            "기타 전쟁 -0.26378006\n",
            "기타 코미디 -0.8275509\n",
            "기타 판타지 -0.7550144\n",
            "다큐멘터리 드라마 -0.98145646\n",
            "다큐멘터리 멜로로맨스 -0.96930045\n",
            "다큐멘터리 뮤지컬 -0.80547535\n",
            "다큐멘터리 미스터리 -0.82099324\n",
            "다큐멘터리 범죄 -0.594184\n",
            "다큐멘터리 사극 -0.96977335\n",
            "다큐멘터리 서부극(웨스턴) -0.7795642\n",
            "다큐멘터리 성인물(에로) -0.92348266\n",
            "다큐멘터리 스릴러 -0.7291785\n",
            "다큐멘터리 애니메이션 -0.57541275\n",
            "다큐멘터리 액션 -0.67823774\n",
            "다큐멘터리 어드벤처 -0.9874566\n",
            "다큐멘터리 전쟁 -0.48667282\n",
            "다큐멘터리 코미디 -0.90293777\n",
            "다큐멘터리 판타지 -0.96095836\n",
            "드라마 멜로로맨스 -0.9176659\n",
            "드라마 뮤지컬 0.87966335\n",
            "드라마 미스터리 -0.5006283\n",
            "드라마 범죄 -0.029503668\n",
            "드라마 사극 -0.31034145\n",
            "드라마 서부극(웨스턴) 0.06735599\n",
            "드라마 성인물(에로) -0.7111414\n",
            "드라마 스릴러 -0.33845404\n",
            "드라마 애니메이션 0.9539534\n",
            "드라마 액션 -0.09592019\n",
            "드라마 어드벤처 -0.21794264\n",
            "드라마 전쟁 0.4908068\n",
            "드라마 코미디 -0.11238073\n",
            "드라마 판타지 0.6045353\n",
            "멜로로맨스 뮤지컬 0.9313039\n",
            "멜로로맨스 미스터리 0.45675695\n",
            "멜로로맨스 범죄 0.8207196\n",
            "멜로로맨스 사극 0.73995954\n",
            "멜로로맨스 서부극(웨스턴) 0.8142074\n",
            "멜로로맨스 성인물(에로) 0.7460247\n",
            "멜로로맨스 스릴러 0.647468\n",
            "멜로로맨스 애니메이션 0.95189536\n",
            "멜로로맨스 액션 0.77384007\n",
            "멜로로맨스 어드벤처 0.69315636\n",
            "멜로로맨스 전쟁 0.86186486\n",
            "멜로로맨스 코미디 0.95983565\n",
            "멜로로맨스 판타지 0.9052766\n",
            "뮤지컬 미스터리 -0.70479226\n",
            "뮤지컬 범죄 -0.45039067\n",
            "뮤지컬 사극 -0.84862524\n",
            "뮤지컬 서부극(웨스턴) -0.61027575\n",
            "뮤지컬 성인물(에로) -0.8815829\n",
            "뮤지컬 스릴러 -0.6119342\n",
            "뮤지컬 애니메이션 0.004357651\n",
            "뮤지컬 액션 -0.525312\n",
            "뮤지컬 어드벤처 -0.79864275\n",
            "뮤지컬 전쟁 -0.23486309\n",
            "뮤지컬 코미디 -0.7626917\n",
            "뮤지컬 판타지 -0.69707996\n",
            "미스터리 범죄 0.9659146\n",
            "미스터리 사극 0.4044935\n",
            "미스터리 서부극(웨스턴) 0.59247506\n",
            "미스터리 성인물(에로) -0.07905633\n",
            "미스터리 스릴러 0.7106626\n",
            "미스터리 애니메이션 0.7467693\n",
            "미스터리 액션 0.8340035\n",
            "미스터리 어드벤처 0.44347024\n",
            "미스터리 전쟁 0.7503205\n",
            "미스터리 코미디 0.5923528\n",
            "미스터리 판타지 0.6569586\n",
            "범죄 사극 -0.13280848\n",
            "범죄 서부극(웨스턴) 0.08580283\n",
            "범죄 성인물(에로) -0.4922802\n",
            "범죄 스릴러 -0.92776763\n",
            "범죄 애니메이션 0.48539427\n",
            "범죄 액션 -0.17539382\n",
            "범죄 어드벤처 -0.07060075\n",
            "범죄 전쟁 0.4920795\n",
            "범죄 코미디 0.0027863346\n",
            "범죄 판타지 0.2188773\n",
            "사극 서부극(웨스턴) 0.39811704\n",
            "사극 성인물(에로) -0.46621153\n",
            "사극 스릴러 -0.22707003\n",
            "사극 애니메이션 0.9079067\n",
            "사극 액션 0.08488032\n",
            "사극 어드벤처 0.105095886\n",
            "사극 전쟁 0.8982034\n",
            "사극 코미디 0.3332782\n",
            "사극 판타지 0.69879496\n",
            "서부극(웨스턴) 성인물(에로) -0.5487307\n",
            "서부극(웨스턴) 스릴러 -0.44277814\n",
            "서부극(웨스턴) 애니메이션 0.7585789\n",
            "서부극(웨스턴) 액션 -0.20083618\n",
            "서부극(웨스턴) 어드벤처 -0.33099276\n",
            "서부극(웨스턴) 전쟁 0.6933028\n",
            "서부극(웨스턴) 코미디 -0.13900283\n",
            "서부극(웨스턴) 판타지 0.26681697\n",
            "성인물(에로) 스릴러 0.2420449\n",
            "성인물(에로) 애니메이션 0.8644739\n",
            "성인물(에로) 액션 0.43921736\n",
            "성인물(에로) 어드벤처 0.4345162\n",
            "성인물(에로) 전쟁 0.6931568\n",
            "성인물(에로) 코미디 0.6905172\n",
            "성인물(에로) 판타지 0.7449899\n",
            "스릴러 애니메이션 0.656386\n",
            "스릴러 액션 0.61155313\n",
            "스릴러 어드벤처 0.25864536\n",
            "스릴러 전쟁 0.6651846\n",
            "스릴러 코미디 0.38902798\n",
            "스릴러 판타지 0.49448073\n",
            "애니메이션 액션 -0.5775201\n",
            "애니메이션 어드벤처 -0.93866265\n",
            "애니메이션 전쟁 -0.27953473\n",
            "애니메이션 코미디 -0.83786714\n",
            "애니메이션 판타지 -0.7580363\n",
            "액션 어드벤처 -0.016861018\n",
            "액션 전쟁 0.6383687\n",
            "액션 코미디 0.08360926\n",
            "액션 판타지 0.31595612\n",
            "어드벤처 전쟁 0.691924\n",
            "어드벤처 코미디 0.18228613\n",
            "어드벤처 판타지 0.73733467\n",
            "전쟁 코미디 -0.571602\n",
            "전쟁 판타지 -0.27800226\n",
            "코미디 판타지 0.63474935\n"
          ]
        }
      ]
    },
    {
      "cell_type": "code",
      "source": [
        "np.random.seed(0)\n",
        "\n",
        "# 한글 지원 폰트\n",
        "sns.set(font='NanumGothic')\n",
        "\n",
        "# 마이너스 부호\n",
        "plt.rcParams['axes.unicode_minus'] = False\n",
        "\n",
        "plt.figure(figsize=(20, 20))\n",
        "ax = sns.heatmap(matrix, xticklabels=genre_name, yticklabels=genre_name, annot=True,  cmap='RdYlGn_r')\n",
        "ax"
      ],
      "metadata": {
        "colab": {
          "base_uri": "https://localhost:8080/",
          "height": 866
        },
        "id": "AeF7YLuK9b0y",
        "outputId": "2eab8dd3-0410-4237-caf4-c16eae278ab7"
      },
      "execution_count": 29,
      "outputs": [
        {
          "output_type": "execute_result",
          "data": {
            "text/plain": [
              "<matplotlib.axes._subplots.AxesSubplot at 0x7f43a1cd20d0>"
            ]
          },
          "metadata": {},
          "execution_count": 29
        },
        {
          "output_type": "display_data",
          "data": {
            "text/plain": [
              "<Figure size 1440x1440 with 2 Axes>"
            ],
            "image/png": "[encoded data removed]"
          },
          "metadata": {}
        }
      ]
    },
    {
      "cell_type": "markdown",
      "source": [
        "다큐멘터리, 멜로로맨스, 미스터리처럼 상대적으로 클리셰가 굳어져 있는 장르는 편향성이 확실하게 나타나는 것을 볼 수 있습니다."
      ],
      "metadata": {
        "id": "TSoNgbn8Jz8l"
      }
    },
    {
      "cell_type": "markdown",
      "source": [
        "---"
      ],
      "metadata": {
        "id": "EEbaCTPPK-pH"
      }
    },
    {
      "cell_type": "markdown",
      "source": [
        "## **05. 회고**\n",
        "\n",
        "- 이번에는 장르의 특성이 사용하는 단어의 빈도로 표현될 수 있다는 아이디어에 착안하여 TF-IDF를 사용하였지만, Word2Vec 모델을 사용하여 얻은 워드 임베딩을 가지고 지식그래프를 만들어서 노드와 엣지의 관계를 보고 각 장르별 유사도를 측정할 수도 있다고 생각됩니다.\n",
        "\n",
        "- 다만 아직 그래프 이론과 지식 그래프 구현체를 깊이 공부하지 않아서 실제로 구현해보지는 못했습니다."
      ],
      "metadata": {
        "id": "Ynmq7UmFLCV2"
      }
    }
  ]
}